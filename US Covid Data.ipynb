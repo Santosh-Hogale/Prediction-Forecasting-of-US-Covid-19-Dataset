{
 "cells": [
  {
   "cell_type": "markdown",
   "id": "9afe49fb",
   "metadata": {},
   "source": [
    "# Topic:- US Covid 19 Data, Project is about to Predict Date wise Cases & Forecasting of Cases Datewise.."
   ]
  },
  {
   "cell_type": "markdown",
   "id": "3027616d",
   "metadata": {},
   "source": [
    "Here we will Import some libraries to solve this dataset."
   ]
  },
  {
   "cell_type": "code",
   "execution_count": 2,
   "id": "da9b0cf7",
   "metadata": {},
   "outputs": [],
   "source": [
    "import pandas as pd\n",
    "import numpy as np\n",
    "import seaborn as sns\n",
    "import matplotlib.pyplot as plt\n",
    "%matplotlib inline"
   ]
  },
  {
   "cell_type": "markdown",
   "id": "edfbc01e",
   "metadata": {},
   "source": [
    "Here we will load dataset of cases & deaths due to covid, during pendemic period ."
   ]
  },
  {
   "cell_type": "code",
   "execution_count": 3,
   "id": "2f788d6a",
   "metadata": {},
   "outputs": [
    {
     "data": {
      "text/html": [
       "<div>\n",
       "<style scoped>\n",
       "    .dataframe tbody tr th:only-of-type {\n",
       "        vertical-align: middle;\n",
       "    }\n",
       "\n",
       "    .dataframe tbody tr th {\n",
       "        vertical-align: top;\n",
       "    }\n",
       "\n",
       "    .dataframe thead th {\n",
       "        text-align: right;\n",
       "    }\n",
       "</style>\n",
       "<table border=\"1\" class=\"dataframe\">\n",
       "  <thead>\n",
       "    <tr style=\"text-align: right;\">\n",
       "      <th></th>\n",
       "      <th>date</th>\n",
       "      <th>county</th>\n",
       "      <th>state</th>\n",
       "      <th>fips</th>\n",
       "      <th>cases</th>\n",
       "      <th>deaths</th>\n",
       "    </tr>\n",
       "  </thead>\n",
       "  <tbody>\n",
       "    <tr>\n",
       "      <th>0</th>\n",
       "      <td>2020-01-21</td>\n",
       "      <td>Snohomish</td>\n",
       "      <td>Washington</td>\n",
       "      <td>53061.0</td>\n",
       "      <td>1</td>\n",
       "      <td>0.0</td>\n",
       "    </tr>\n",
       "    <tr>\n",
       "      <th>1</th>\n",
       "      <td>2020-01-22</td>\n",
       "      <td>Snohomish</td>\n",
       "      <td>Washington</td>\n",
       "      <td>53061.0</td>\n",
       "      <td>1</td>\n",
       "      <td>0.0</td>\n",
       "    </tr>\n",
       "    <tr>\n",
       "      <th>2</th>\n",
       "      <td>2020-01-23</td>\n",
       "      <td>Snohomish</td>\n",
       "      <td>Washington</td>\n",
       "      <td>53061.0</td>\n",
       "      <td>1</td>\n",
       "      <td>0.0</td>\n",
       "    </tr>\n",
       "    <tr>\n",
       "      <th>3</th>\n",
       "      <td>2020-01-24</td>\n",
       "      <td>Cook</td>\n",
       "      <td>Illinois</td>\n",
       "      <td>17031.0</td>\n",
       "      <td>1</td>\n",
       "      <td>0.0</td>\n",
       "    </tr>\n",
       "    <tr>\n",
       "      <th>4</th>\n",
       "      <td>2020-01-24</td>\n",
       "      <td>Snohomish</td>\n",
       "      <td>Washington</td>\n",
       "      <td>53061.0</td>\n",
       "      <td>1</td>\n",
       "      <td>0.0</td>\n",
       "    </tr>\n",
       "    <tr>\n",
       "      <th>...</th>\n",
       "      <td>...</td>\n",
       "      <td>...</td>\n",
       "      <td>...</td>\n",
       "      <td>...</td>\n",
       "      <td>...</td>\n",
       "      <td>...</td>\n",
       "    </tr>\n",
       "    <tr>\n",
       "      <th>2502827</th>\n",
       "      <td>2022-05-13</td>\n",
       "      <td>Sweetwater</td>\n",
       "      <td>Wyoming</td>\n",
       "      <td>56037.0</td>\n",
       "      <td>11088</td>\n",
       "      <td>126.0</td>\n",
       "    </tr>\n",
       "    <tr>\n",
       "      <th>2502828</th>\n",
       "      <td>2022-05-13</td>\n",
       "      <td>Teton</td>\n",
       "      <td>Wyoming</td>\n",
       "      <td>56039.0</td>\n",
       "      <td>10074</td>\n",
       "      <td>16.0</td>\n",
       "    </tr>\n",
       "    <tr>\n",
       "      <th>2502829</th>\n",
       "      <td>2022-05-13</td>\n",
       "      <td>Uinta</td>\n",
       "      <td>Wyoming</td>\n",
       "      <td>56041.0</td>\n",
       "      <td>5643</td>\n",
       "      <td>39.0</td>\n",
       "    </tr>\n",
       "    <tr>\n",
       "      <th>2502830</th>\n",
       "      <td>2022-05-13</td>\n",
       "      <td>Washakie</td>\n",
       "      <td>Wyoming</td>\n",
       "      <td>56043.0</td>\n",
       "      <td>2358</td>\n",
       "      <td>44.0</td>\n",
       "    </tr>\n",
       "    <tr>\n",
       "      <th>2502831</th>\n",
       "      <td>2022-05-13</td>\n",
       "      <td>Weston</td>\n",
       "      <td>Wyoming</td>\n",
       "      <td>56045.0</td>\n",
       "      <td>1588</td>\n",
       "      <td>18.0</td>\n",
       "    </tr>\n",
       "  </tbody>\n",
       "</table>\n",
       "<p>2502832 rows × 6 columns</p>\n",
       "</div>"
      ],
      "text/plain": [
       "               date      county       state     fips  cases  deaths\n",
       "0        2020-01-21   Snohomish  Washington  53061.0      1     0.0\n",
       "1        2020-01-22   Snohomish  Washington  53061.0      1     0.0\n",
       "2        2020-01-23   Snohomish  Washington  53061.0      1     0.0\n",
       "3        2020-01-24        Cook    Illinois  17031.0      1     0.0\n",
       "4        2020-01-24   Snohomish  Washington  53061.0      1     0.0\n",
       "...             ...         ...         ...      ...    ...     ...\n",
       "2502827  2022-05-13  Sweetwater     Wyoming  56037.0  11088   126.0\n",
       "2502828  2022-05-13       Teton     Wyoming  56039.0  10074    16.0\n",
       "2502829  2022-05-13       Uinta     Wyoming  56041.0   5643    39.0\n",
       "2502830  2022-05-13    Washakie     Wyoming  56043.0   2358    44.0\n",
       "2502831  2022-05-13      Weston     Wyoming  56045.0   1588    18.0\n",
       "\n",
       "[2502832 rows x 6 columns]"
      ]
     },
     "execution_count": 3,
     "metadata": {},
     "output_type": "execute_result"
    }
   ],
   "source": [
    "df=pd.read_csv(r\"C:\\Users\\santo\\Downloads\\ML Folder\\archive (7)\\us-counties.csv\")\n",
    "df"
   ]
  },
  {
   "cell_type": "markdown",
   "id": "59ebd20f",
   "metadata": {},
   "source": [
    "Here we will make Day Date & year seperate Columns for better understanding"
   ]
  },
  {
   "cell_type": "code",
   "execution_count": 4,
   "id": "665e2d34",
   "metadata": {},
   "outputs": [
    {
     "data": {
      "text/html": [
       "<div>\n",
       "<style scoped>\n",
       "    .dataframe tbody tr th:only-of-type {\n",
       "        vertical-align: middle;\n",
       "    }\n",
       "\n",
       "    .dataframe tbody tr th {\n",
       "        vertical-align: top;\n",
       "    }\n",
       "\n",
       "    .dataframe thead th {\n",
       "        text-align: right;\n",
       "    }\n",
       "</style>\n",
       "<table border=\"1\" class=\"dataframe\">\n",
       "  <thead>\n",
       "    <tr style=\"text-align: right;\">\n",
       "      <th></th>\n",
       "      <th>county</th>\n",
       "      <th>state</th>\n",
       "      <th>fips</th>\n",
       "      <th>cases</th>\n",
       "      <th>deaths</th>\n",
       "      <th>Date</th>\n",
       "      <th>Year</th>\n",
       "      <th>Month</th>\n",
       "      <th>Day</th>\n",
       "    </tr>\n",
       "  </thead>\n",
       "  <tbody>\n",
       "    <tr>\n",
       "      <th>0</th>\n",
       "      <td>Snohomish</td>\n",
       "      <td>Washington</td>\n",
       "      <td>53061.0</td>\n",
       "      <td>1</td>\n",
       "      <td>0.0</td>\n",
       "      <td>2020-01-21</td>\n",
       "      <td>2020</td>\n",
       "      <td>1</td>\n",
       "      <td>21</td>\n",
       "    </tr>\n",
       "    <tr>\n",
       "      <th>1</th>\n",
       "      <td>Snohomish</td>\n",
       "      <td>Washington</td>\n",
       "      <td>53061.0</td>\n",
       "      <td>1</td>\n",
       "      <td>0.0</td>\n",
       "      <td>2020-01-22</td>\n",
       "      <td>2020</td>\n",
       "      <td>1</td>\n",
       "      <td>22</td>\n",
       "    </tr>\n",
       "    <tr>\n",
       "      <th>2</th>\n",
       "      <td>Snohomish</td>\n",
       "      <td>Washington</td>\n",
       "      <td>53061.0</td>\n",
       "      <td>1</td>\n",
       "      <td>0.0</td>\n",
       "      <td>2020-01-23</td>\n",
       "      <td>2020</td>\n",
       "      <td>1</td>\n",
       "      <td>23</td>\n",
       "    </tr>\n",
       "    <tr>\n",
       "      <th>3</th>\n",
       "      <td>Cook</td>\n",
       "      <td>Illinois</td>\n",
       "      <td>17031.0</td>\n",
       "      <td>1</td>\n",
       "      <td>0.0</td>\n",
       "      <td>2020-01-24</td>\n",
       "      <td>2020</td>\n",
       "      <td>1</td>\n",
       "      <td>24</td>\n",
       "    </tr>\n",
       "    <tr>\n",
       "      <th>4</th>\n",
       "      <td>Snohomish</td>\n",
       "      <td>Washington</td>\n",
       "      <td>53061.0</td>\n",
       "      <td>1</td>\n",
       "      <td>0.0</td>\n",
       "      <td>2020-01-24</td>\n",
       "      <td>2020</td>\n",
       "      <td>1</td>\n",
       "      <td>24</td>\n",
       "    </tr>\n",
       "    <tr>\n",
       "      <th>...</th>\n",
       "      <td>...</td>\n",
       "      <td>...</td>\n",
       "      <td>...</td>\n",
       "      <td>...</td>\n",
       "      <td>...</td>\n",
       "      <td>...</td>\n",
       "      <td>...</td>\n",
       "      <td>...</td>\n",
       "      <td>...</td>\n",
       "    </tr>\n",
       "    <tr>\n",
       "      <th>2502827</th>\n",
       "      <td>Sweetwater</td>\n",
       "      <td>Wyoming</td>\n",
       "      <td>56037.0</td>\n",
       "      <td>11088</td>\n",
       "      <td>126.0</td>\n",
       "      <td>2022-05-13</td>\n",
       "      <td>2022</td>\n",
       "      <td>5</td>\n",
       "      <td>13</td>\n",
       "    </tr>\n",
       "    <tr>\n",
       "      <th>2502828</th>\n",
       "      <td>Teton</td>\n",
       "      <td>Wyoming</td>\n",
       "      <td>56039.0</td>\n",
       "      <td>10074</td>\n",
       "      <td>16.0</td>\n",
       "      <td>2022-05-13</td>\n",
       "      <td>2022</td>\n",
       "      <td>5</td>\n",
       "      <td>13</td>\n",
       "    </tr>\n",
       "    <tr>\n",
       "      <th>2502829</th>\n",
       "      <td>Uinta</td>\n",
       "      <td>Wyoming</td>\n",
       "      <td>56041.0</td>\n",
       "      <td>5643</td>\n",
       "      <td>39.0</td>\n",
       "      <td>2022-05-13</td>\n",
       "      <td>2022</td>\n",
       "      <td>5</td>\n",
       "      <td>13</td>\n",
       "    </tr>\n",
       "    <tr>\n",
       "      <th>2502830</th>\n",
       "      <td>Washakie</td>\n",
       "      <td>Wyoming</td>\n",
       "      <td>56043.0</td>\n",
       "      <td>2358</td>\n",
       "      <td>44.0</td>\n",
       "      <td>2022-05-13</td>\n",
       "      <td>2022</td>\n",
       "      <td>5</td>\n",
       "      <td>13</td>\n",
       "    </tr>\n",
       "    <tr>\n",
       "      <th>2502831</th>\n",
       "      <td>Weston</td>\n",
       "      <td>Wyoming</td>\n",
       "      <td>56045.0</td>\n",
       "      <td>1588</td>\n",
       "      <td>18.0</td>\n",
       "      <td>2022-05-13</td>\n",
       "      <td>2022</td>\n",
       "      <td>5</td>\n",
       "      <td>13</td>\n",
       "    </tr>\n",
       "  </tbody>\n",
       "</table>\n",
       "<p>2502832 rows × 9 columns</p>\n",
       "</div>"
      ],
      "text/plain": [
       "             county       state     fips  cases  deaths       Date  Year  \\\n",
       "0         Snohomish  Washington  53061.0      1     0.0 2020-01-21  2020   \n",
       "1         Snohomish  Washington  53061.0      1     0.0 2020-01-22  2020   \n",
       "2         Snohomish  Washington  53061.0      1     0.0 2020-01-23  2020   \n",
       "3              Cook    Illinois  17031.0      1     0.0 2020-01-24  2020   \n",
       "4         Snohomish  Washington  53061.0      1     0.0 2020-01-24  2020   \n",
       "...             ...         ...      ...    ...     ...        ...   ...   \n",
       "2502827  Sweetwater     Wyoming  56037.0  11088   126.0 2022-05-13  2022   \n",
       "2502828       Teton     Wyoming  56039.0  10074    16.0 2022-05-13  2022   \n",
       "2502829       Uinta     Wyoming  56041.0   5643    39.0 2022-05-13  2022   \n",
       "2502830    Washakie     Wyoming  56043.0   2358    44.0 2022-05-13  2022   \n",
       "2502831      Weston     Wyoming  56045.0   1588    18.0 2022-05-13  2022   \n",
       "\n",
       "         Month  Day  \n",
       "0            1   21  \n",
       "1            1   22  \n",
       "2            1   23  \n",
       "3            1   24  \n",
       "4            1   24  \n",
       "...        ...  ...  \n",
       "2502827      5   13  \n",
       "2502828      5   13  \n",
       "2502829      5   13  \n",
       "2502830      5   13  \n",
       "2502831      5   13  \n",
       "\n",
       "[2502832 rows x 9 columns]"
      ]
     },
     "execution_count": 4,
     "metadata": {},
     "output_type": "execute_result"
    }
   ],
   "source": [
    "df['Date']=pd.to_datetime(df['date'])\n",
    "df['Year']=df['Date'].dt.year\n",
    "df['Month']=df['Date'].dt.month\n",
    "df['Day']=df['Date'].dt.day\n",
    "df1=df.drop('date',axis=1)\n",
    "df1"
   ]
  },
  {
   "cell_type": "markdown",
   "id": "526540f5",
   "metadata": {},
   "source": [
    "# This is overview of Dataset"
   ]
  },
  {
   "cell_type": "markdown",
   "id": "ec8658e1",
   "metadata": {},
   "source": [
    "In this section we see what is our dataset is all about , its columns & columns datatypes."
   ]
  },
  {
   "cell_type": "code",
   "execution_count": 5,
   "id": "62336aea",
   "metadata": {},
   "outputs": [
    {
     "name": "stdout",
     "output_type": "stream",
     "text": [
      "<class 'pandas.core.frame.DataFrame'>\n",
      "RangeIndex: 2502832 entries, 0 to 2502831\n",
      "Data columns (total 9 columns):\n",
      " #   Column  Dtype         \n",
      "---  ------  -----         \n",
      " 0   county  object        \n",
      " 1   state   object        \n",
      " 2   fips    float64       \n",
      " 3   cases   int64         \n",
      " 4   deaths  float64       \n",
      " 5   Date    datetime64[ns]\n",
      " 6   Year    int64         \n",
      " 7   Month   int64         \n",
      " 8   Day     int64         \n",
      "dtypes: datetime64[ns](1), float64(2), int64(4), object(2)\n",
      "memory usage: 171.9+ MB\n"
     ]
    }
   ],
   "source": [
    "df1.info()"
   ]
  },
  {
   "cell_type": "code",
   "execution_count": 6,
   "id": "239f8801",
   "metadata": {},
   "outputs": [
    {
     "data": {
      "text/plain": [
       "Index(['county', 'state', 'fips', 'cases', 'deaths', 'Date', 'Year', 'Month',\n",
       "       'Day'],\n",
       "      dtype='object')"
      ]
     },
     "execution_count": 6,
     "metadata": {},
     "output_type": "execute_result"
    }
   ],
   "source": [
    "df1.columns"
   ]
  },
  {
   "cell_type": "code",
   "execution_count": 7,
   "id": "98931c92",
   "metadata": {},
   "outputs": [
    {
     "data": {
      "text/plain": [
       "array(['Snohomish', 'Cook', 'Orange', ..., 'Kalawao', 'Rota',\n",
       "       'Pending County Assignment'], dtype=object)"
      ]
     },
     "execution_count": 7,
     "metadata": {},
     "output_type": "execute_result"
    }
   ],
   "source": [
    "df1['county'].unique()"
   ]
  },
  {
   "cell_type": "code",
   "execution_count": 8,
   "id": "1548338e",
   "metadata": {},
   "outputs": [
    {
     "data": {
      "text/plain": [
       "(2502832,)"
      ]
     },
     "execution_count": 8,
     "metadata": {},
     "output_type": "execute_result"
    }
   ],
   "source": [
    "df1['county'].shape"
   ]
  },
  {
   "cell_type": "code",
   "execution_count": 9,
   "id": "8f63ff27",
   "metadata": {},
   "outputs": [
    {
     "data": {
      "text/plain": [
       "array(['Washington', 'Illinois', 'California', 'Arizona', 'Massachusetts',\n",
       "       'Wisconsin', 'Texas', 'Nebraska', 'Utah', 'Oregon', 'Florida',\n",
       "       'New York', 'Rhode Island', 'Georgia', 'New Hampshire',\n",
       "       'North Carolina', 'New Jersey', 'Colorado', 'Maryland', 'Nevada',\n",
       "       'Tennessee', 'Hawaii', 'Indiana', 'Kentucky', 'Minnesota',\n",
       "       'Oklahoma', 'Pennsylvania', 'South Carolina',\n",
       "       'District of Columbia', 'Kansas', 'Missouri', 'Vermont',\n",
       "       'Virginia', 'Connecticut', 'Iowa', 'Louisiana', 'Ohio', 'Michigan',\n",
       "       'South Dakota', 'Arkansas', 'Delaware', 'Mississippi',\n",
       "       'New Mexico', 'North Dakota', 'Wyoming', 'Alaska', 'Maine',\n",
       "       'Alabama', 'Idaho', 'Montana', 'Puerto Rico', 'Virgin Islands',\n",
       "       'Guam', 'West Virginia', 'Northern Mariana Islands',\n",
       "       'American Samoa'], dtype=object)"
      ]
     },
     "execution_count": 9,
     "metadata": {},
     "output_type": "execute_result"
    }
   ],
   "source": [
    "df1['state'].unique()"
   ]
  },
  {
   "cell_type": "code",
   "execution_count": 10,
   "id": "825c98c5",
   "metadata": {},
   "outputs": [
    {
     "data": {
      "text/plain": [
       "(2502832,)"
      ]
     },
     "execution_count": 10,
     "metadata": {},
     "output_type": "execute_result"
    }
   ],
   "source": [
    "df1['state'].shape"
   ]
  },
  {
   "cell_type": "code",
   "execution_count": 11,
   "id": "f3c239c7",
   "metadata": {},
   "outputs": [
    {
     "data": {
      "text/plain": [
       "array([53061., 17031.,  6059., ..., 15005., 69100., 48999.])"
      ]
     },
     "execution_count": 11,
     "metadata": {},
     "output_type": "execute_result"
    }
   ],
   "source": [
    "df1['fips'].unique()"
   ]
  },
  {
   "cell_type": "code",
   "execution_count": 12,
   "id": "98877cdb",
   "metadata": {},
   "outputs": [
    {
     "data": {
      "text/plain": [
       "array([     1,      2,     10, ..., 134580,  55321,  44315], dtype=int64)"
      ]
     },
     "execution_count": 12,
     "metadata": {},
     "output_type": "execute_result"
    }
   ],
   "source": [
    "df1['cases'].unique()"
   ]
  },
  {
   "cell_type": "code",
   "execution_count": 13,
   "id": "65d26cb0",
   "metadata": {},
   "outputs": [
    {
     "data": {
      "text/plain": [
       "array([0.0000e+00, 1.0000e+00, 3.0000e+00, ..., 4.0267e+04, 6.7720e+03,\n",
       "       1.0972e+04])"
      ]
     },
     "execution_count": 13,
     "metadata": {},
     "output_type": "execute_result"
    }
   ],
   "source": [
    "df1['deaths'].unique()"
   ]
  },
  {
   "cell_type": "code",
   "execution_count": 14,
   "id": "d031a8a2",
   "metadata": {},
   "outputs": [],
   "source": [
    "# df1['Date'].unique()"
   ]
  },
  {
   "cell_type": "code",
   "execution_count": 15,
   "id": "2aa623eb",
   "metadata": {},
   "outputs": [
    {
     "data": {
      "text/plain": [
       "(2502832,)"
      ]
     },
     "execution_count": 15,
     "metadata": {},
     "output_type": "execute_result"
    }
   ],
   "source": [
    "df1['Date'].shape"
   ]
  },
  {
   "cell_type": "code",
   "execution_count": 16,
   "id": "e9719e5e",
   "metadata": {},
   "outputs": [
    {
     "data": {
      "text/plain": [
       "array([2020, 2021, 2022], dtype=int64)"
      ]
     },
     "execution_count": 16,
     "metadata": {},
     "output_type": "execute_result"
    }
   ],
   "source": [
    "df1['Year'].unique()"
   ]
  },
  {
   "cell_type": "code",
   "execution_count": 17,
   "id": "7e6f8c15",
   "metadata": {},
   "outputs": [
    {
     "data": {
      "text/plain": [
       "array([ 1,  2,  3,  4,  5,  6,  7,  8,  9, 10, 11, 12], dtype=int64)"
      ]
     },
     "execution_count": 17,
     "metadata": {},
     "output_type": "execute_result"
    }
   ],
   "source": [
    "df1['Month'].unique()"
   ]
  },
  {
   "cell_type": "code",
   "execution_count": 18,
   "id": "f8011499",
   "metadata": {},
   "outputs": [
    {
     "data": {
      "text/plain": [
       "array([21, 22, 23, 24, 25, 26, 27, 28, 29, 30, 31,  1,  2,  3,  4,  5,  6,\n",
       "        7,  8,  9, 10, 11, 12, 13, 14, 15, 16, 17, 18, 19, 20],\n",
       "      dtype=int64)"
      ]
     },
     "execution_count": 18,
     "metadata": {},
     "output_type": "execute_result"
    }
   ],
   "source": [
    "df1['Day'].unique()"
   ]
  },
  {
   "cell_type": "code",
   "execution_count": 19,
   "id": "490c8f48",
   "metadata": {},
   "outputs": [
    {
     "data": {
      "text/html": [
       "<div>\n",
       "<style scoped>\n",
       "    .dataframe tbody tr th:only-of-type {\n",
       "        vertical-align: middle;\n",
       "    }\n",
       "\n",
       "    .dataframe tbody tr th {\n",
       "        vertical-align: top;\n",
       "    }\n",
       "\n",
       "    .dataframe thead th {\n",
       "        text-align: right;\n",
       "    }\n",
       "</style>\n",
       "<table border=\"1\" class=\"dataframe\">\n",
       "  <thead>\n",
       "    <tr style=\"text-align: right;\">\n",
       "      <th></th>\n",
       "      <th>county</th>\n",
       "      <th>state</th>\n",
       "      <th>fips</th>\n",
       "      <th>cases</th>\n",
       "      <th>deaths</th>\n",
       "      <th>Date</th>\n",
       "      <th>Year</th>\n",
       "      <th>Month</th>\n",
       "      <th>Day</th>\n",
       "    </tr>\n",
       "  </thead>\n",
       "  <tbody>\n",
       "    <tr>\n",
       "      <th>0</th>\n",
       "      <td>Snohomish</td>\n",
       "      <td>Washington</td>\n",
       "      <td>53061.0</td>\n",
       "      <td>1</td>\n",
       "      <td>0.0</td>\n",
       "      <td>2020-01-21</td>\n",
       "      <td>2020</td>\n",
       "      <td>1</td>\n",
       "      <td>21</td>\n",
       "    </tr>\n",
       "    <tr>\n",
       "      <th>1</th>\n",
       "      <td>Snohomish</td>\n",
       "      <td>Washington</td>\n",
       "      <td>53061.0</td>\n",
       "      <td>1</td>\n",
       "      <td>0.0</td>\n",
       "      <td>2020-01-22</td>\n",
       "      <td>2020</td>\n",
       "      <td>1</td>\n",
       "      <td>22</td>\n",
       "    </tr>\n",
       "  </tbody>\n",
       "</table>\n",
       "</div>"
      ],
      "text/plain": [
       "      county       state     fips  cases  deaths       Date  Year  Month  Day\n",
       "0  Snohomish  Washington  53061.0      1     0.0 2020-01-21  2020      1   21\n",
       "1  Snohomish  Washington  53061.0      1     0.0 2020-01-22  2020      1   22"
      ]
     },
     "execution_count": 19,
     "metadata": {},
     "output_type": "execute_result"
    }
   ],
   "source": [
    "df1.head(2)"
   ]
  },
  {
   "cell_type": "code",
   "execution_count": 20,
   "id": "2b7e0271",
   "metadata": {},
   "outputs": [
    {
     "name": "stdout",
     "output_type": "stream",
     "text": [
      "<class 'pandas.core.frame.DataFrame'>\n",
      "RangeIndex: 2502832 entries, 0 to 2502831\n",
      "Data columns (total 9 columns):\n",
      " #   Column  Dtype         \n",
      "---  ------  -----         \n",
      " 0   county  object        \n",
      " 1   state   object        \n",
      " 2   fips    float64       \n",
      " 3   cases   int64         \n",
      " 4   deaths  float64       \n",
      " 5   Date    datetime64[ns]\n",
      " 6   Year    int64         \n",
      " 7   Month   int64         \n",
      " 8   Day     int64         \n",
      "dtypes: datetime64[ns](1), float64(2), int64(4), object(2)\n",
      "memory usage: 171.9+ MB\n"
     ]
    }
   ],
   "source": [
    "df1.info()"
   ]
  },
  {
   "cell_type": "markdown",
   "id": "75c4c24a",
   "metadata": {},
   "source": [
    "# 1) Univariate Analysis\n"
   ]
  },
  {
   "cell_type": "code",
   "execution_count": 21,
   "id": "3ff77bea",
   "metadata": {},
   "outputs": [
    {
     "data": {
      "text/plain": [
       "<AxesSubplot:xlabel='Year', ylabel='count'>"
      ]
     },
     "execution_count": 21,
     "metadata": {},
     "output_type": "execute_result"
    },
    {
     "data": {
      "image/png": "[encoded data removed]",
      "text/plain": [
       "<Figure size 1500x800 with 4 Axes>"
      ]
     },
     "metadata": {},
     "output_type": "display_data"
    }
   ],
   "source": [
    "plt.figure(1,figsize=(15,8))\n",
    "plt.subplots_adjust(wspace=0.4,hspace=0.2)\n",
    "\n",
    "plt.subplot(241)\n",
    "sns.countplot(x='fips', data=df1.head())\n",
    "\n",
    "plt.subplot(242)\n",
    "sns.countplot(x='cases', data=df1.head(200))\n",
    "\n",
    "plt.subplot(243)\n",
    "sns.countplot(x='Month',data=df1.head(500))\n",
    "\n",
    "plt.subplot(244)\n",
    "sns.countplot(x='Year',data=df1)\n",
    "\n"
   ]
  },
  {
   "cell_type": "markdown",
   "id": "955f40e7",
   "metadata": {},
   "source": [
    "From the above graphs we can coclude that:\n",
    "    1) Counts of fips 17031 is 1 & 53061 is 4\n",
    "    2) counts of cases 1 is 140 &cases 2 is 50\n",
    "    3) count of 2nd month is 350 whch is maximun\n",
    "    4)count of year is max in 2021."
   ]
  },
  {
   "cell_type": "code",
   "execution_count": 22,
   "id": "8e22527a",
   "metadata": {},
   "outputs": [
    {
     "data": {
      "text/plain": [
       "<AxesSubplot:xlabel='state', ylabel='count'>"
      ]
     },
     "execution_count": 22,
     "metadata": {},
     "output_type": "execute_result"
    },
    {
     "data": {
      "image/png": "[encoded data removed]",
      "text/plain": [
       "<Figure size 640x480 with 1 Axes>"
      ]
     },
     "metadata": {},
     "output_type": "display_data"
    }
   ],
   "source": [
    "sns.countplot(x='state',data=df1.head(100))"
   ]
  },
  {
   "cell_type": "markdown",
   "id": "3a52fbdd",
   "metadata": {},
   "source": [
    "from the above graph we can conclude that max count of state which shows californisa hax max 42 Count"
   ]
  },
  {
   "cell_type": "markdown",
   "id": "49f5a189",
   "metadata": {},
   "source": [
    "# Bivariate Analysis"
   ]
  },
  {
   "cell_type": "code",
   "execution_count": 23,
   "id": "aa5b084c",
   "metadata": {},
   "outputs": [
    {
     "data": {
      "image/png": "[encoded data removed]",
      "text/plain": [
       "<Figure size 1000x1200 with 2 Axes>"
      ]
     },
     "metadata": {},
     "output_type": "display_data"
    }
   ],
   "source": [
    "plt.figure(figsize=(10,12))\n",
    "plt.subplots_adjust(wspace=0.3)\n",
    "\n",
    "plt.subplot(221)\n",
    "sns.barplot(x='state',y='cases',data=df1.head(50))\n",
    "plt.xticks(rotation=90);\n",
    "\n",
    "plt.subplot(222)\n",
    "sns.barplot(x='county',y='cases',data=df1.head(50))\n",
    "plt.xticks(rotation=90);\n",
    "\n"
   ]
  },
  {
   "cell_type": "markdown",
   "id": "85fe8114",
   "metadata": {},
   "source": [
    "From the above graph we can conclude that cases found in county which shows that san francisco has maximum cases 2"
   ]
  },
  {
   "cell_type": "markdown",
   "id": "f2832902",
   "metadata": {},
   "source": [
    "From the aove graph we can conclide that deaths in state which shows that san francisco has ,maximum deaths are in washington 3.5"
   ]
  },
  {
   "cell_type": "code",
   "execution_count": 24,
   "id": "bad66a64",
   "metadata": {},
   "outputs": [
    {
     "data": {
      "text/plain": [
       "array(['Snohomish', 'Cook', 'Orange', ..., 'Kalawao', 'Rota',\n",
       "       'Pending County Assignment'], dtype=object)"
      ]
     },
     "execution_count": 24,
     "metadata": {},
     "output_type": "execute_result"
    }
   ],
   "source": [
    "df1['county'].unique()"
   ]
  },
  {
   "cell_type": "code",
   "execution_count": 25,
   "id": "8852238b",
   "metadata": {},
   "outputs": [
    {
     "data": {
      "image/png": "[encoded data removed]",
      "text/plain": [
       "<Figure size 1500x800 with 1 Axes>"
      ]
     },
     "metadata": {},
     "output_type": "display_data"
    }
   ],
   "source": [
    "plt.figure(figsize=(15,8))\n",
    "sns.barplot(x='county',y='deaths',data=df1.head(550))\n",
    "plt.xticks(rotation=90);"
   ]
  },
  {
   "cell_type": "markdown",
   "id": "1cdf3b1e",
   "metadata": {},
   "source": [
    "From the above graph we can conclude that deaths in county which shows that san francisco has maximum deaths 2"
   ]
  },
  {
   "cell_type": "code",
   "execution_count": 26,
   "id": "8962e8f6",
   "metadata": {},
   "outputs": [
    {
     "data": {
      "image/png": "[encoded data removed]",
      "text/plain": [
       "<Figure size 1500x1000 with 1 Axes>"
      ]
     },
     "metadata": {},
     "output_type": "display_data"
    }
   ],
   "source": [
    "plt.figure(figsize=(15,10))\n",
    "sns.barplot(x='state',y='deaths',data=df1)\n",
    "plt.xticks(rotation=90);\n"
   ]
  },
  {
   "cell_type": "markdown",
   "id": "285f5084",
   "metadata": {},
   "source": [
    "From the above graph we can conclide that deaths in state which shows that san francisco has ,maximum deaths are in perto Rico 3.5"
   ]
  },
  {
   "cell_type": "code",
   "execution_count": 27,
   "id": "86e405f5",
   "metadata": {},
   "outputs": [],
   "source": [
    "# df1.head()"
   ]
  },
  {
   "cell_type": "code",
   "execution_count": 28,
   "id": "b7d77494",
   "metadata": {},
   "outputs": [],
   "source": [
    "df2=df1.sort_values('deaths',ascending=True)"
   ]
  },
  {
   "cell_type": "code",
   "execution_count": 29,
   "id": "5d99c35d",
   "metadata": {},
   "outputs": [
    {
     "data": {
      "text/plain": [
       "Text(0.5, 1.0, 'Day VS Deaths Graph')"
      ]
     },
     "execution_count": 29,
     "metadata": {},
     "output_type": "execute_result"
    },
    {
     "data": {
      "image/png": "[encoded data removed]",
      "text/plain": [
       "<Figure size 1000x800 with 2 Axes>"
      ]
     },
     "metadata": {},
     "output_type": "display_data"
    },
    {
     "data": {
      "image/png": "[encoded data removed]",
      "text/plain": [
       "<Figure size 1000x500 with 1 Axes>"
      ]
     },
     "metadata": {},
     "output_type": "display_data"
    }
   ],
   "source": [
    "plt.figure(figsize=(10,8))\n",
    "plt.subplots_adjust(wspace=0.2,hspace=0.3)\n",
    "\n",
    "plt.subplot(221)\n",
    "sns.barplot(x='Year',y='deaths',data=df1)\n",
    "plt.title('Year VS Deaths Graph')\n",
    "\n",
    "plt.subplot(222)\n",
    "sns.barplot(x='Month',y='deaths',data=df2)\n",
    "plt.title('Month VS Deaths Graph')\n",
    "\n",
    "plt.figure(figsize=(10,5))\n",
    "sns.barplot(x='Day',y='deaths',data=df1)\n",
    "plt.title('Day VS Deaths Graph')\n"
   ]
  },
  {
   "cell_type": "markdown",
   "id": "a13ded16",
   "metadata": {},
   "source": [
    "Here in this graph we can see year vs deaths, month vs deaths & Day vs deaths "
   ]
  },
  {
   "cell_type": "code",
   "execution_count": 30,
   "id": "f0ea2667",
   "metadata": {},
   "outputs": [
    {
     "data": {
      "text/plain": [
       "Text(0.5, 1.0, 'Day VS Cases Graph')"
      ]
     },
     "execution_count": 30,
     "metadata": {},
     "output_type": "execute_result"
    },
    {
     "data": {
      "image/png": "[encoded data removed]",
      "text/plain": [
       "<Figure size 1000x800 with 2 Axes>"
      ]
     },
     "metadata": {},
     "output_type": "display_data"
    },
    {
     "data": {
      "image/png": "[encoded data removed]",
      "text/plain": [
       "<Figure size 1000x500 with 1 Axes>"
      ]
     },
     "metadata": {},
     "output_type": "display_data"
    }
   ],
   "source": [
    "plt.figure(figsize=(10,8))\n",
    "plt.subplots_adjust(hspace=0.3,wspace=0.4)\n",
    "\n",
    "plt.subplot(221)\n",
    "sns.barplot(x='Year',y='cases',data=df1)\n",
    "plt.title('Year VS Cases Graph')\n",
    "\n",
    "plt.subplot(222)\n",
    "sns.barplot(x='Month',y='cases',data=df1)\n",
    "plt.title('Month VS Cases Graph')\n",
    "\n",
    "\n",
    "plt.figure(figsize=(10,5))\n",
    "sns.barplot(x='Day',y='cases',data=df1)\n",
    "plt.title('Day VS Cases Graph')\n"
   ]
  },
  {
   "cell_type": "markdown",
   "id": "a482d599",
   "metadata": {},
   "source": [
    "as we have seen that our dataset contains all object & float/ integer datatypes.\n",
    "for machime algorithm we need to convert them in to numeric form so we will convert it using encoding as below"
   ]
  },
  {
   "cell_type": "code",
   "execution_count": 31,
   "id": "6b0241f0",
   "metadata": {},
   "outputs": [],
   "source": [
    "from sklearn.preprocessing import LabelEncoder"
   ]
  },
  {
   "cell_type": "code",
   "execution_count": 32,
   "id": "6356f3fc",
   "metadata": {},
   "outputs": [
    {
     "data": {
      "text/html": [
       "<div>\n",
       "<style scoped>\n",
       "    .dataframe tbody tr th:only-of-type {\n",
       "        vertical-align: middle;\n",
       "    }\n",
       "\n",
       "    .dataframe tbody tr th {\n",
       "        vertical-align: top;\n",
       "    }\n",
       "\n",
       "    .dataframe thead th {\n",
       "        text-align: right;\n",
       "    }\n",
       "</style>\n",
       "<table border=\"1\" class=\"dataframe\">\n",
       "  <thead>\n",
       "    <tr style=\"text-align: right;\">\n",
       "      <th></th>\n",
       "      <th>county</th>\n",
       "      <th>state</th>\n",
       "      <th>fips</th>\n",
       "      <th>cases</th>\n",
       "      <th>deaths</th>\n",
       "      <th>Date</th>\n",
       "      <th>Year</th>\n",
       "      <th>Month</th>\n",
       "      <th>Day</th>\n",
       "    </tr>\n",
       "  </thead>\n",
       "  <tbody>\n",
       "    <tr>\n",
       "      <th>0</th>\n",
       "      <td>1601</td>\n",
       "      <td>52</td>\n",
       "      <td>53061.0</td>\n",
       "      <td>1</td>\n",
       "      <td>0.0</td>\n",
       "      <td>2020-01-21</td>\n",
       "      <td>2020</td>\n",
       "      <td>1</td>\n",
       "      <td>21</td>\n",
       "    </tr>\n",
       "    <tr>\n",
       "      <th>1</th>\n",
       "      <td>1601</td>\n",
       "      <td>52</td>\n",
       "      <td>53061.0</td>\n",
       "      <td>1</td>\n",
       "      <td>0.0</td>\n",
       "      <td>2020-01-22</td>\n",
       "      <td>2020</td>\n",
       "      <td>1</td>\n",
       "      <td>22</td>\n",
       "    </tr>\n",
       "    <tr>\n",
       "      <th>2</th>\n",
       "      <td>1601</td>\n",
       "      <td>52</td>\n",
       "      <td>53061.0</td>\n",
       "      <td>1</td>\n",
       "      <td>0.0</td>\n",
       "      <td>2020-01-23</td>\n",
       "      <td>2020</td>\n",
       "      <td>1</td>\n",
       "      <td>23</td>\n",
       "    </tr>\n",
       "    <tr>\n",
       "      <th>3</th>\n",
       "      <td>414</td>\n",
       "      <td>15</td>\n",
       "      <td>17031.0</td>\n",
       "      <td>1</td>\n",
       "      <td>0.0</td>\n",
       "      <td>2020-01-24</td>\n",
       "      <td>2020</td>\n",
       "      <td>1</td>\n",
       "      <td>24</td>\n",
       "    </tr>\n",
       "    <tr>\n",
       "      <th>4</th>\n",
       "      <td>1601</td>\n",
       "      <td>52</td>\n",
       "      <td>53061.0</td>\n",
       "      <td>1</td>\n",
       "      <td>0.0</td>\n",
       "      <td>2020-01-24</td>\n",
       "      <td>2020</td>\n",
       "      <td>1</td>\n",
       "      <td>24</td>\n",
       "    </tr>\n",
       "    <tr>\n",
       "      <th>...</th>\n",
       "      <td>...</td>\n",
       "      <td>...</td>\n",
       "      <td>...</td>\n",
       "      <td>...</td>\n",
       "      <td>...</td>\n",
       "      <td>...</td>\n",
       "      <td>...</td>\n",
       "      <td>...</td>\n",
       "      <td>...</td>\n",
       "    </tr>\n",
       "    <tr>\n",
       "      <th>2502827</th>\n",
       "      <td>1683</td>\n",
       "      <td>55</td>\n",
       "      <td>56037.0</td>\n",
       "      <td>11088</td>\n",
       "      <td>126.0</td>\n",
       "      <td>2022-05-13</td>\n",
       "      <td>2022</td>\n",
       "      <td>5</td>\n",
       "      <td>13</td>\n",
       "    </tr>\n",
       "    <tr>\n",
       "      <th>2502828</th>\n",
       "      <td>1708</td>\n",
       "      <td>55</td>\n",
       "      <td>56039.0</td>\n",
       "      <td>10074</td>\n",
       "      <td>16.0</td>\n",
       "      <td>2022-05-13</td>\n",
       "      <td>2022</td>\n",
       "      <td>5</td>\n",
       "      <td>13</td>\n",
       "    </tr>\n",
       "    <tr>\n",
       "      <th>2502829</th>\n",
       "      <td>1765</td>\n",
       "      <td>55</td>\n",
       "      <td>56041.0</td>\n",
       "      <td>5643</td>\n",
       "      <td>39.0</td>\n",
       "      <td>2022-05-13</td>\n",
       "      <td>2022</td>\n",
       "      <td>5</td>\n",
       "      <td>13</td>\n",
       "    </tr>\n",
       "    <tr>\n",
       "      <th>2502830</th>\n",
       "      <td>1828</td>\n",
       "      <td>55</td>\n",
       "      <td>56043.0</td>\n",
       "      <td>2358</td>\n",
       "      <td>44.0</td>\n",
       "      <td>2022-05-13</td>\n",
       "      <td>2022</td>\n",
       "      <td>5</td>\n",
       "      <td>13</td>\n",
       "    </tr>\n",
       "    <tr>\n",
       "      <th>2502831</th>\n",
       "      <td>1852</td>\n",
       "      <td>55</td>\n",
       "      <td>56045.0</td>\n",
       "      <td>1588</td>\n",
       "      <td>18.0</td>\n",
       "      <td>2022-05-13</td>\n",
       "      <td>2022</td>\n",
       "      <td>5</td>\n",
       "      <td>13</td>\n",
       "    </tr>\n",
       "  </tbody>\n",
       "</table>\n",
       "<p>2502832 rows × 9 columns</p>\n",
       "</div>"
      ],
      "text/plain": [
       "         county  state     fips  cases  deaths       Date  Year  Month  Day\n",
       "0          1601     52  53061.0      1     0.0 2020-01-21  2020      1   21\n",
       "1          1601     52  53061.0      1     0.0 2020-01-22  2020      1   22\n",
       "2          1601     52  53061.0      1     0.0 2020-01-23  2020      1   23\n",
       "3           414     15  17031.0      1     0.0 2020-01-24  2020      1   24\n",
       "4          1601     52  53061.0      1     0.0 2020-01-24  2020      1   24\n",
       "...         ...    ...      ...    ...     ...        ...   ...    ...  ...\n",
       "2502827    1683     55  56037.0  11088   126.0 2022-05-13  2022      5   13\n",
       "2502828    1708     55  56039.0  10074    16.0 2022-05-13  2022      5   13\n",
       "2502829    1765     55  56041.0   5643    39.0 2022-05-13  2022      5   13\n",
       "2502830    1828     55  56043.0   2358    44.0 2022-05-13  2022      5   13\n",
       "2502831    1852     55  56045.0   1588    18.0 2022-05-13  2022      5   13\n",
       "\n",
       "[2502832 rows x 9 columns]"
      ]
     },
     "execution_count": 32,
     "metadata": {},
     "output_type": "execute_result"
    }
   ],
   "source": [
    "for i in df1.columns:\n",
    "    if df1[i].dtypes == 'object':\n",
    "        lb=LabelEncoder()\n",
    "        df1[i]=lb.fit_transform(df1[i])\n",
    "df1        "
   ]
  },
  {
   "cell_type": "markdown",
   "id": "62200885",
   "metadata": {},
   "source": [
    "After converting our dataset into numeric form we will seperate its Fearures & Labels & Assign them variable as x & y"
   ]
  },
  {
   "cell_type": "code",
   "execution_count": 33,
   "id": "67a83b43",
   "metadata": {},
   "outputs": [],
   "source": [
    "x=df1.drop(['deaths','Date'],axis=1)\n",
    "x=x.fillna(0.0)\n",
    "y=df1['deaths']\n",
    "y=y.fillna(0.0)"
   ]
  },
  {
   "cell_type": "code",
   "execution_count": 34,
   "id": "d09323a8",
   "metadata": {},
   "outputs": [
    {
     "data": {
      "text/plain": [
       "county    0\n",
       "state     0\n",
       "fips      0\n",
       "cases     0\n",
       "Year      0\n",
       "Month     0\n",
       "Day       0\n",
       "dtype: int64"
      ]
     },
     "execution_count": 34,
     "metadata": {},
     "output_type": "execute_result"
    }
   ],
   "source": [
    "x.isnull().sum()"
   ]
  },
  {
   "cell_type": "code",
   "execution_count": 35,
   "id": "29709b75",
   "metadata": {},
   "outputs": [
    {
     "data": {
      "text/plain": [
       "0"
      ]
     },
     "execution_count": 35,
     "metadata": {},
     "output_type": "execute_result"
    }
   ],
   "source": [
    "y.isnull().sum()"
   ]
  },
  {
   "cell_type": "code",
   "execution_count": 36,
   "id": "d7bccef7",
   "metadata": {},
   "outputs": [
    {
     "name": "stdout",
     "output_type": "stream",
     "text": [
      "Requirement already satisfied: prettytable in c:\\users\\santo\\anaconda3\\anaconda\\lib\\site-packages (3.6.0)\n",
      "Requirement already satisfied: wcwidth in c:\\users\\santo\\anaconda3\\anaconda\\lib\\site-packages (from prettytable) (0.2.5)\n"
     ]
    }
   ],
   "source": [
    "!pip install prettytable\n",
    "from prettytable import PrettyTable\n"
   ]
  },
  {
   "cell_type": "code",
   "execution_count": 37,
   "id": "a6cf1c4b",
   "metadata": {},
   "outputs": [],
   "source": [
    "models_results_rmse = {}\n",
    "models_results_r2 = {}\n",
    "def evaluate(y_t, y_p, title):\n",
    "    table = PrettyTable()\n",
    "    table.field_names = ['Metric', 'Value']\n",
    "    rmse = mean_squared_error(y_t, y_p, squared=False).round(4)\n",
    "    r2 = r2_score(y_t, y_p).round(4)\n",
    "    \n",
    "    table.add_row(['RMSE', rmse])\n",
    "    table.add_row(['R2 Score', r2])\n",
    "    \n",
    "    models_results_rmse[title] = rmse\n",
    "    models_results_r2[title] = r2\n",
    "    print(table)"
   ]
  },
  {
   "cell_type": "markdown",
   "id": "bcb15aee",
   "metadata": {},
   "source": [
    "Here we will make Our Training & Testing Models For application of ML Algorithm"
   ]
  },
  {
   "cell_type": "code",
   "execution_count": 38,
   "id": "3ea3bc1f",
   "metadata": {},
   "outputs": [],
   "source": [
    "from sklearn.model_selection import train_test_split\n",
    "x_train,x_test,y_train,y_test=train_test_split(x,y,test_size=0.3,random_state=0)\n"
   ]
  },
  {
   "cell_type": "markdown",
   "id": "f625ae04",
   "metadata": {},
   "source": [
    "We will apply Linear Regression to our dataset here"
   ]
  },
  {
   "cell_type": "code",
   "execution_count": 184,
   "id": "02ab5599",
   "metadata": {},
   "outputs": [
    {
     "data": {
      "text/plain": [
       "LinearRegression()"
      ]
     },
     "execution_count": 184,
     "metadata": {},
     "output_type": "execute_result"
    }
   ],
   "source": [
    "from sklearn.linear_model import LinearRegression\n",
    "from sklearn.metrics import mean_squared_error, r2_score\n",
    "\n",
    "modelLR = LinearRegression() \n",
    "modelLR.fit(x_train, y_train)\n",
    "# y_pred = modelLR.predict(x_test)"
   ]
  },
  {
   "cell_type": "code",
   "execution_count": 40,
   "id": "409fe7c5",
   "metadata": {},
   "outputs": [
    {
     "data": {
      "text/plain": [
       "0.8027335911917487"
      ]
     },
     "execution_count": 40,
     "metadata": {},
     "output_type": "execute_result"
    }
   ],
   "source": [
    "modelLR.score(x_train,y_train)"
   ]
  },
  {
   "cell_type": "code",
   "execution_count": 41,
   "id": "726062d5",
   "metadata": {},
   "outputs": [],
   "source": [
    "y_pred = modelLR.predict(x_test)"
   ]
  },
  {
   "cell_type": "code",
   "execution_count": 42,
   "id": "4267a668",
   "metadata": {},
   "outputs": [
    {
     "data": {
      "text/plain": [
       "0.7945386949894985"
      ]
     },
     "execution_count": 42,
     "metadata": {},
     "output_type": "execute_result"
    }
   ],
   "source": [
    "r2_score(y_test,y_pred)"
   ]
  },
  {
   "cell_type": "code",
   "execution_count": 43,
   "id": "d7344cfb",
   "metadata": {},
   "outputs": [
    {
     "data": {
      "text/plain": [
       "135056.56640815383"
      ]
     },
     "execution_count": 43,
     "metadata": {},
     "output_type": "execute_result"
    }
   ],
   "source": [
    "mean_squared_error(y_test,y_pred)"
   ]
  },
  {
   "cell_type": "code",
   "execution_count": 44,
   "id": "6050ba9f",
   "metadata": {},
   "outputs": [
    {
     "name": "stdout",
     "output_type": "stream",
     "text": [
      "+----------+----------+\n",
      "|  Metric  |  Value   |\n",
      "+----------+----------+\n",
      "|   RMSE   | 367.5004 |\n",
      "| R2 Score |  0.7945  |\n",
      "+----------+----------+\n"
     ]
    }
   ],
   "source": [
    "evaluate(y_test,y_pred,title='LinearRegression')"
   ]
  },
  {
   "cell_type": "markdown",
   "id": "2c0caa6f",
   "metadata": {},
   "source": [
    "Using of Linear Regression models r2 score is 79% Which is good.\n",
    "Root Mean Scored Error is 367.5004"
   ]
  },
  {
   "cell_type": "markdown",
   "id": "8f8db9fc",
   "metadata": {},
   "source": [
    "After Linar Regression we will check by using DecisionTreeRegressor"
   ]
  },
  {
   "cell_type": "code",
   "execution_count": 45,
   "id": "c41fcd63",
   "metadata": {},
   "outputs": [
    {
     "data": {
      "text/plain": [
       "DecisionTreeRegressor(max_depth=3)"
      ]
     },
     "execution_count": 45,
     "metadata": {},
     "output_type": "execute_result"
    }
   ],
   "source": [
    "from sklearn.tree import DecisionTreeRegressor\n",
    "\n",
    "modelDTR = DecisionTreeRegressor(max_depth=3)\n",
    "modelDTR.fit(x_train, y_train)\n"
   ]
  },
  {
   "cell_type": "code",
   "execution_count": 46,
   "id": "aa13ce8a",
   "metadata": {},
   "outputs": [
    {
     "data": {
      "text/plain": [
       "0.848788476849408"
      ]
     },
     "execution_count": 46,
     "metadata": {},
     "output_type": "execute_result"
    }
   ],
   "source": [
    "modelDTR.score(x_train, y_train)"
   ]
  },
  {
   "cell_type": "code",
   "execution_count": 47,
   "id": "0ef261dd",
   "metadata": {},
   "outputs": [],
   "source": [
    "y_predDTR=modelDTR.predict(x_test)"
   ]
  },
  {
   "cell_type": "code",
   "execution_count": 48,
   "id": "68713032",
   "metadata": {},
   "outputs": [
    {
     "data": {
      "text/plain": [
       "0.8376902072647402"
      ]
     },
     "execution_count": 48,
     "metadata": {},
     "output_type": "execute_result"
    }
   ],
   "source": [
    "r2_score(y_test,y_predDTR)"
   ]
  },
  {
   "cell_type": "code",
   "execution_count": 49,
   "id": "8b059177",
   "metadata": {},
   "outputs": [
    {
     "data": {
      "text/plain": [
       "106691.63860378899"
      ]
     },
     "execution_count": 49,
     "metadata": {},
     "output_type": "execute_result"
    }
   ],
   "source": [
    "mean_squared_error(y_test,y_predDTR)"
   ]
  },
  {
   "cell_type": "code",
   "execution_count": 50,
   "id": "fbc7fa61",
   "metadata": {},
   "outputs": [
    {
     "name": "stdout",
     "output_type": "stream",
     "text": [
      "+----------+----------+\n",
      "|  Metric  |  Value   |\n",
      "+----------+----------+\n",
      "|   RMSE   | 326.6369 |\n",
      "| R2 Score |  0.8377  |\n",
      "+----------+----------+\n"
     ]
    }
   ],
   "source": [
    "evaluate(y_test,y_predDTR,title='DecisionTreeRegressor')"
   ]
  },
  {
   "cell_type": "markdown",
   "id": "80d1a440",
   "metadata": {},
   "source": [
    "Using of DecisionTreeRegressor models r2 score is 83 % Which is good.\n"
   ]
  },
  {
   "cell_type": "markdown",
   "id": "5d797020",
   "metadata": {},
   "source": [
    "Our model is taking too much time for training model so he have tool only 10000 rows to train.\n",
    "so it will in short time."
   ]
  },
  {
   "cell_type": "markdown",
   "id": "14ccd974",
   "metadata": {},
   "source": [
    "we will use RandomForestRegressor to check models score."
   ]
  },
  {
   "cell_type": "code",
   "execution_count": 51,
   "id": "065e5eed",
   "metadata": {},
   "outputs": [],
   "source": [
    "x=x.head(10000)\n",
    "y=y.head(10000)\n",
    "from sklearn.model_selection import train_test_split\n",
    "x_train,x_test,y_train,y_test=train_test_split(x,y,test_size=0.3,random_state=0)"
   ]
  },
  {
   "cell_type": "code",
   "execution_count": 52,
   "id": "c7ea4f2c",
   "metadata": {},
   "outputs": [
    {
     "data": {
      "text/plain": [
       "RandomForestRegressor(max_depth=5)"
      ]
     },
     "execution_count": 52,
     "metadata": {},
     "output_type": "execute_result"
    }
   ],
   "source": [
    "from sklearn.ensemble import RandomForestRegressor\n",
    "\n",
    "modelRFR = RandomForestRegressor(max_depth=5)\n",
    "modelRFR.fit(x_train, y_train)"
   ]
  },
  {
   "cell_type": "code",
   "execution_count": 53,
   "id": "39135fa4",
   "metadata": {},
   "outputs": [
    {
     "data": {
      "text/plain": [
       "0.9410825129905283"
      ]
     },
     "execution_count": 53,
     "metadata": {},
     "output_type": "execute_result"
    }
   ],
   "source": [
    "modelRFR.score(x_train,y_train)"
   ]
  },
  {
   "cell_type": "code",
   "execution_count": 54,
   "id": "0b1bbda4",
   "metadata": {},
   "outputs": [],
   "source": [
    "y_predRFR=modelRFR.predict(x_test)"
   ]
  },
  {
   "cell_type": "code",
   "execution_count": 55,
   "id": "60a4f5f2",
   "metadata": {},
   "outputs": [
    {
     "data": {
      "text/plain": [
       "0.8700220214436647"
      ]
     },
     "execution_count": 55,
     "metadata": {},
     "output_type": "execute_result"
    }
   ],
   "source": [
    "r2_score(y_test,y_predRFR)"
   ]
  },
  {
   "cell_type": "code",
   "execution_count": 56,
   "id": "b0098031",
   "metadata": {},
   "outputs": [
    {
     "data": {
      "text/plain": [
       "1.7704674651316703"
      ]
     },
     "execution_count": 56,
     "metadata": {},
     "output_type": "execute_result"
    }
   ],
   "source": [
    "mean_squared_error(y_test,y_predRFR)"
   ]
  },
  {
   "cell_type": "code",
   "execution_count": 57,
   "id": "c73350fa",
   "metadata": {},
   "outputs": [
    {
     "name": "stdout",
     "output_type": "stream",
     "text": [
      "+----------+--------+\n",
      "|  Metric  | Value  |\n",
      "+----------+--------+\n",
      "|   RMSE   | 1.3306 |\n",
      "| R2 Score |  0.87  |\n",
      "+----------+--------+\n"
     ]
    }
   ],
   "source": [
    "evaluate(y_test,y_predRFR,title='RandomForestRegressor')"
   ]
  },
  {
   "cell_type": "markdown",
   "id": "90314398",
   "metadata": {},
   "source": [
    "Using of RandomForestRegressor models r2 score is 86 % Which is good.\n"
   ]
  },
  {
   "cell_type": "code",
   "execution_count": 58,
   "id": "847e7686",
   "metadata": {},
   "outputs": [
    {
     "data": {
      "text/plain": [
       "SVR()"
      ]
     },
     "execution_count": 58,
     "metadata": {},
     "output_type": "execute_result"
    }
   ],
   "source": [
    "from sklearn.svm import SVR\n",
    "\n",
    "modelSVR = SVR()\n",
    "modelSVR.fit(x_train, y_train)"
   ]
  },
  {
   "cell_type": "code",
   "execution_count": 59,
   "id": "2b470c1b",
   "metadata": {},
   "outputs": [
    {
     "data": {
      "text/plain": [
       "0.0007719756559626534"
      ]
     },
     "execution_count": 59,
     "metadata": {},
     "output_type": "execute_result"
    }
   ],
   "source": [
    "modelSVR.score(x_train, y_train)"
   ]
  },
  {
   "cell_type": "code",
   "execution_count": 60,
   "id": "8e48266f",
   "metadata": {},
   "outputs": [],
   "source": [
    "y_predSVR=modelSVR.predict(x_test)"
   ]
  },
  {
   "cell_type": "code",
   "execution_count": 61,
   "id": "0898cc2d",
   "metadata": {},
   "outputs": [
    {
     "data": {
      "text/plain": [
       "0.003965633945301472"
      ]
     },
     "execution_count": 61,
     "metadata": {},
     "output_type": "execute_result"
    }
   ],
   "source": [
    "r2_score(y_test,y_predSVR)"
   ]
  },
  {
   "cell_type": "code",
   "execution_count": 62,
   "id": "18bfc210",
   "metadata": {},
   "outputs": [
    {
     "data": {
      "text/plain": [
       "13.567270847257983"
      ]
     },
     "execution_count": 62,
     "metadata": {},
     "output_type": "execute_result"
    }
   ],
   "source": [
    "mean_squared_error(y_test,y_predSVR)"
   ]
  },
  {
   "cell_type": "code",
   "execution_count": 63,
   "id": "06407fb2",
   "metadata": {},
   "outputs": [
    {
     "name": "stdout",
     "output_type": "stream",
     "text": [
      "+----------+--------+\n",
      "|  Metric  | Value  |\n",
      "+----------+--------+\n",
      "|   RMSE   | 3.6834 |\n",
      "| R2 Score | 0.004  |\n",
      "+----------+--------+\n"
     ]
    }
   ],
   "source": [
    "evaluate(y_test,y_predSVR,title='SVR')"
   ]
  },
  {
   "cell_type": "markdown",
   "id": "0f18574c",
   "metadata": {},
   "source": [
    "Using of SVR models r2 score is 0.04 % Which is not good.\n",
    "so will check using XGBRegressor\n"
   ]
  },
  {
   "cell_type": "code",
   "execution_count": 64,
   "id": "8d7fec03",
   "metadata": {},
   "outputs": [
    {
     "data": {
      "text/plain": [
       "XGBRegressor(base_score=None, booster=None, callbacks=None,\n",
       "             colsample_bylevel=None, colsample_bynode=None,\n",
       "             colsample_bytree=None, early_stopping_rounds=None,\n",
       "             enable_categorical=False, eval_metric=None, feature_types=None,\n",
       "             gamma=None, gpu_id=None, grow_policy=None, importance_type=None,\n",
       "             interaction_constraints=None, learning_rate=None, max_bin=None,\n",
       "             max_cat_threshold=None, max_cat_to_onehot=None,\n",
       "             max_delta_step=None, max_depth=None, max_leaves=None,\n",
       "             min_child_weight=None, missing=nan, monotone_constraints=None,\n",
       "             n_estimators=100, n_jobs=None, num_parallel_tree=None,\n",
       "             predictor=None, random_state=None, ...)"
      ]
     },
     "execution_count": 64,
     "metadata": {},
     "output_type": "execute_result"
    }
   ],
   "source": [
    "from xgboost import XGBRegressor\n",
    "modelXGB = XGBRegressor()\n",
    "modelXGB.fit(x_train, y_train)"
   ]
  },
  {
   "cell_type": "code",
   "execution_count": 65,
   "id": "a3b59185",
   "metadata": {},
   "outputs": [
    {
     "data": {
      "text/plain": [
       "0.998211163438136"
      ]
     },
     "execution_count": 65,
     "metadata": {},
     "output_type": "execute_result"
    }
   ],
   "source": [
    "modelXGB.score(x_train, y_train)"
   ]
  },
  {
   "cell_type": "code",
   "execution_count": 66,
   "id": "ed7fae99",
   "metadata": {},
   "outputs": [],
   "source": [
    "y_predXGB=modelXGB.predict(x_test)"
   ]
  },
  {
   "cell_type": "code",
   "execution_count": 67,
   "id": "936f50c1",
   "metadata": {},
   "outputs": [
    {
     "data": {
      "text/plain": [
       "0.9412464075279391"
      ]
     },
     "execution_count": 67,
     "metadata": {},
     "output_type": "execute_result"
    }
   ],
   "source": [
    "r2_score(y_test,y_predXGB)"
   ]
  },
  {
   "cell_type": "code",
   "execution_count": 68,
   "id": "2360c45d",
   "metadata": {},
   "outputs": [
    {
     "data": {
      "text/plain": [
       "0.8002995975683966"
      ]
     },
     "execution_count": 68,
     "metadata": {},
     "output_type": "execute_result"
    }
   ],
   "source": [
    "mean_squared_error(y_test,y_predXGB)"
   ]
  },
  {
   "cell_type": "code",
   "execution_count": 69,
   "id": "27251f9e",
   "metadata": {},
   "outputs": [
    {
     "name": "stdout",
     "output_type": "stream",
     "text": [
      "+----------+--------+\n",
      "|  Metric  | Value  |\n",
      "+----------+--------+\n",
      "|   RMSE   | 0.8946 |\n",
      "| R2 Score | 0.9412 |\n",
      "+----------+--------+\n"
     ]
    }
   ],
   "source": [
    "evaluate(y_test,y_predXGB,title='XGBRegressor')"
   ]
  },
  {
   "cell_type": "markdown",
   "id": "36c858fa",
   "metadata": {},
   "source": [
    "Using of XGBRegressor models r2 score is 94 % Which is good.\n"
   ]
  },
  {
   "cell_type": "markdown",
   "id": "ac804759",
   "metadata": {},
   "source": [
    "# Feature importance for df1"
   ]
  },
  {
   "cell_type": "code",
   "execution_count": 134,
   "id": "2f896907",
   "metadata": {},
   "outputs": [
    {
     "data": {
      "text/plain": [
       "array([7.60862728, 0.01525241, 0.81276321])"
      ]
     },
     "execution_count": 134,
     "metadata": {},
     "output_type": "execute_result"
    }
   ],
   "source": [
    "imp_fea1=modelLR.coef_[modelLR.coef_>0]\n",
    "imp_fea1"
   ]
  },
  {
   "cell_type": "code",
   "execution_count": 135,
   "id": "16ceb505",
   "metadata": {},
   "outputs": [
    {
     "data": {
      "text/html": [
       "<div>\n",
       "<style scoped>\n",
       "    .dataframe tbody tr th:only-of-type {\n",
       "        vertical-align: middle;\n",
       "    }\n",
       "\n",
       "    .dataframe tbody tr th {\n",
       "        vertical-align: top;\n",
       "    }\n",
       "\n",
       "    .dataframe thead th {\n",
       "        text-align: right;\n",
       "    }\n",
       "</style>\n",
       "<table border=\"1\" class=\"dataframe\">\n",
       "  <thead>\n",
       "    <tr style=\"text-align: right;\">\n",
       "      <th></th>\n",
       "      <th>coefficient</th>\n",
       "    </tr>\n",
       "  </thead>\n",
       "  <tbody>\n",
       "    <tr>\n",
       "      <th>county</th>\n",
       "      <td>NaN</td>\n",
       "    </tr>\n",
       "    <tr>\n",
       "      <th>state</th>\n",
       "      <td>7.608627</td>\n",
       "    </tr>\n",
       "    <tr>\n",
       "      <th>fips</th>\n",
       "      <td>NaN</td>\n",
       "    </tr>\n",
       "    <tr>\n",
       "      <th>cases</th>\n",
       "      <td>0.015252</td>\n",
       "    </tr>\n",
       "    <tr>\n",
       "      <th>Year</th>\n",
       "      <td>NaN</td>\n",
       "    </tr>\n",
       "    <tr>\n",
       "      <th>Month</th>\n",
       "      <td>0.812763</td>\n",
       "    </tr>\n",
       "    <tr>\n",
       "      <th>Day</th>\n",
       "      <td>NaN</td>\n",
       "    </tr>\n",
       "  </tbody>\n",
       "</table>\n",
       "</div>"
      ],
      "text/plain": [
       "        coefficient\n",
       "county          NaN\n",
       "state      7.608627\n",
       "fips            NaN\n",
       "cases      0.015252\n",
       "Year            NaN\n",
       "Month      0.812763\n",
       "Day             NaN"
      ]
     },
     "execution_count": 135,
     "metadata": {},
     "output_type": "execute_result"
    }
   ],
   "source": [
    "coef=pd.DataFrame(modelLR.coef_,index=x.columns,columns=['coefficient'])\n",
    "coef[coef>0.0]"
   ]
  },
  {
   "cell_type": "code",
   "execution_count": 137,
   "id": "3740984e",
   "metadata": {},
   "outputs": [
    {
     "data": {
      "text/html": [
       "<div>\n",
       "<style scoped>\n",
       "    .dataframe tbody tr th:only-of-type {\n",
       "        vertical-align: middle;\n",
       "    }\n",
       "\n",
       "    .dataframe tbody tr th {\n",
       "        vertical-align: top;\n",
       "    }\n",
       "\n",
       "    .dataframe thead th {\n",
       "        text-align: right;\n",
       "    }\n",
       "</style>\n",
       "<table border=\"1\" class=\"dataframe\">\n",
       "  <thead>\n",
       "    <tr style=\"text-align: right;\">\n",
       "      <th></th>\n",
       "      <th>state</th>\n",
       "      <th>cases</th>\n",
       "      <th>Month</th>\n",
       "    </tr>\n",
       "  </thead>\n",
       "  <tbody>\n",
       "    <tr>\n",
       "      <th>0</th>\n",
       "      <td>52</td>\n",
       "      <td>1</td>\n",
       "      <td>1</td>\n",
       "    </tr>\n",
       "    <tr>\n",
       "      <th>1</th>\n",
       "      <td>52</td>\n",
       "      <td>1</td>\n",
       "      <td>1</td>\n",
       "    </tr>\n",
       "    <tr>\n",
       "      <th>2</th>\n",
       "      <td>52</td>\n",
       "      <td>1</td>\n",
       "      <td>1</td>\n",
       "    </tr>\n",
       "    <tr>\n",
       "      <th>3</th>\n",
       "      <td>15</td>\n",
       "      <td>1</td>\n",
       "      <td>1</td>\n",
       "    </tr>\n",
       "    <tr>\n",
       "      <th>4</th>\n",
       "      <td>52</td>\n",
       "      <td>1</td>\n",
       "      <td>1</td>\n",
       "    </tr>\n",
       "  </tbody>\n",
       "</table>\n",
       "</div>"
      ],
      "text/plain": [
       "   state  cases  Month\n",
       "0     52      1      1\n",
       "1     52      1      1\n",
       "2     52      1      1\n",
       "3     15      1      1\n",
       "4     52      1      1"
      ]
     },
     "execution_count": 137,
     "metadata": {},
     "output_type": "execute_result"
    }
   ],
   "source": [
    "df2=df1[['state','cases','Month']]\n",
    "df2.head()"
   ]
  },
  {
   "cell_type": "code",
   "execution_count": 143,
   "id": "23071657",
   "metadata": {},
   "outputs": [
    {
     "data": {
      "text/plain": [
       "array([0.08864884, 0.91135116])"
      ]
     },
     "execution_count": 143,
     "metadata": {},
     "output_type": "execute_result"
    }
   ],
   "source": [
    "fea_imp2=modelDTR.feature_importances_[modelDTR.feature_importances_>0]\n",
    "fea_imp2"
   ]
  },
  {
   "cell_type": "code",
   "execution_count": 144,
   "id": "de8d4b99",
   "metadata": {},
   "outputs": [
    {
     "data": {
      "text/html": [
       "<div>\n",
       "<style scoped>\n",
       "    .dataframe tbody tr th:only-of-type {\n",
       "        vertical-align: middle;\n",
       "    }\n",
       "\n",
       "    .dataframe tbody tr th {\n",
       "        vertical-align: top;\n",
       "    }\n",
       "\n",
       "    .dataframe thead th {\n",
       "        text-align: right;\n",
       "    }\n",
       "</style>\n",
       "<table border=\"1\" class=\"dataframe\">\n",
       "  <thead>\n",
       "    <tr style=\"text-align: right;\">\n",
       "      <th></th>\n",
       "      <th>coefficient</th>\n",
       "    </tr>\n",
       "  </thead>\n",
       "  <tbody>\n",
       "    <tr>\n",
       "      <th>county</th>\n",
       "      <td>NaN</td>\n",
       "    </tr>\n",
       "    <tr>\n",
       "      <th>state</th>\n",
       "      <td>NaN</td>\n",
       "    </tr>\n",
       "    <tr>\n",
       "      <th>fips</th>\n",
       "      <td>0.088649</td>\n",
       "    </tr>\n",
       "    <tr>\n",
       "      <th>cases</th>\n",
       "      <td>0.911351</td>\n",
       "    </tr>\n",
       "    <tr>\n",
       "      <th>Year</th>\n",
       "      <td>NaN</td>\n",
       "    </tr>\n",
       "    <tr>\n",
       "      <th>Month</th>\n",
       "      <td>NaN</td>\n",
       "    </tr>\n",
       "    <tr>\n",
       "      <th>Day</th>\n",
       "      <td>NaN</td>\n",
       "    </tr>\n",
       "  </tbody>\n",
       "</table>\n",
       "</div>"
      ],
      "text/plain": [
       "        coefficient\n",
       "county          NaN\n",
       "state           NaN\n",
       "fips       0.088649\n",
       "cases      0.911351\n",
       "Year            NaN\n",
       "Month           NaN\n",
       "Day             NaN"
      ]
     },
     "execution_count": 144,
     "metadata": {},
     "output_type": "execute_result"
    }
   ],
   "source": [
    "coef=pd.DataFrame(modelDTR.feature_importances_,index=x.columns,columns=['coefficient'])\n",
    "coef[coef>0.0]"
   ]
  },
  {
   "cell_type": "code",
   "execution_count": 148,
   "id": "6fb35edb",
   "metadata": {},
   "outputs": [
    {
     "data": {
      "text/html": [
       "<div>\n",
       "<style scoped>\n",
       "    .dataframe tbody tr th:only-of-type {\n",
       "        vertical-align: middle;\n",
       "    }\n",
       "\n",
       "    .dataframe tbody tr th {\n",
       "        vertical-align: top;\n",
       "    }\n",
       "\n",
       "    .dataframe thead th {\n",
       "        text-align: right;\n",
       "    }\n",
       "</style>\n",
       "<table border=\"1\" class=\"dataframe\">\n",
       "  <thead>\n",
       "    <tr style=\"text-align: right;\">\n",
       "      <th></th>\n",
       "      <th>fips</th>\n",
       "      <th>cases</th>\n",
       "    </tr>\n",
       "  </thead>\n",
       "  <tbody>\n",
       "    <tr>\n",
       "      <th>0</th>\n",
       "      <td>53061.0</td>\n",
       "      <td>1</td>\n",
       "    </tr>\n",
       "    <tr>\n",
       "      <th>1</th>\n",
       "      <td>53061.0</td>\n",
       "      <td>1</td>\n",
       "    </tr>\n",
       "    <tr>\n",
       "      <th>2</th>\n",
       "      <td>53061.0</td>\n",
       "      <td>1</td>\n",
       "    </tr>\n",
       "    <tr>\n",
       "      <th>3</th>\n",
       "      <td>17031.0</td>\n",
       "      <td>1</td>\n",
       "    </tr>\n",
       "    <tr>\n",
       "      <th>4</th>\n",
       "      <td>53061.0</td>\n",
       "      <td>1</td>\n",
       "    </tr>\n",
       "  </tbody>\n",
       "</table>\n",
       "</div>"
      ],
      "text/plain": [
       "      fips  cases\n",
       "0  53061.0      1\n",
       "1  53061.0      1\n",
       "2  53061.0      1\n",
       "3  17031.0      1\n",
       "4  53061.0      1"
      ]
     },
     "execution_count": 148,
     "metadata": {},
     "output_type": "execute_result"
    }
   ],
   "source": [
    "df3=df1[['fips','cases']]\n",
    "df3.head()"
   ]
  },
  {
   "cell_type": "code",
   "execution_count": 151,
   "id": "10d4ea7a",
   "metadata": {},
   "outputs": [
    {
     "data": {
      "text/plain": [
       "array([0.06835756, 0.0632954 , 0.08193543, 0.7168312 , 0.06958042])"
      ]
     },
     "execution_count": 151,
     "metadata": {},
     "output_type": "execute_result"
    }
   ],
   "source": [
    "imp_fea3=modelRFR.feature_importances_[modelRFR.feature_importances_>0]\n",
    "imp_fea3"
   ]
  },
  {
   "cell_type": "code",
   "execution_count": 155,
   "id": "1e6dbdc6",
   "metadata": {},
   "outputs": [
    {
     "data": {
      "text/html": [
       "<div>\n",
       "<style scoped>\n",
       "    .dataframe tbody tr th:only-of-type {\n",
       "        vertical-align: middle;\n",
       "    }\n",
       "\n",
       "    .dataframe tbody tr th {\n",
       "        vertical-align: top;\n",
       "    }\n",
       "\n",
       "    .dataframe thead th {\n",
       "        text-align: right;\n",
       "    }\n",
       "</style>\n",
       "<table border=\"1\" class=\"dataframe\">\n",
       "  <thead>\n",
       "    <tr style=\"text-align: right;\">\n",
       "      <th></th>\n",
       "      <th>coefficient</th>\n",
       "    </tr>\n",
       "  </thead>\n",
       "  <tbody>\n",
       "    <tr>\n",
       "      <th>county</th>\n",
       "      <td>0.068358</td>\n",
       "    </tr>\n",
       "    <tr>\n",
       "      <th>state</th>\n",
       "      <td>0.063295</td>\n",
       "    </tr>\n",
       "    <tr>\n",
       "      <th>fips</th>\n",
       "      <td>0.081935</td>\n",
       "    </tr>\n",
       "    <tr>\n",
       "      <th>cases</th>\n",
       "      <td>0.716831</td>\n",
       "    </tr>\n",
       "    <tr>\n",
       "      <th>Year</th>\n",
       "      <td>0.000000</td>\n",
       "    </tr>\n",
       "    <tr>\n",
       "      <th>Month</th>\n",
       "      <td>0.000000</td>\n",
       "    </tr>\n",
       "    <tr>\n",
       "      <th>Day</th>\n",
       "      <td>0.069580</td>\n",
       "    </tr>\n",
       "  </tbody>\n",
       "</table>\n",
       "</div>"
      ],
      "text/plain": [
       "        coefficient\n",
       "county     0.068358\n",
       "state      0.063295\n",
       "fips       0.081935\n",
       "cases      0.716831\n",
       "Year       0.000000\n",
       "Month      0.000000\n",
       "Day        0.069580"
      ]
     },
     "execution_count": 155,
     "metadata": {},
     "output_type": "execute_result"
    }
   ],
   "source": [
    "coef=pd.DataFrame(modelRFR.feature_importances_,index=x.columns,columns=['coefficient'])\n",
    "coef"
   ]
  },
  {
   "cell_type": "code",
   "execution_count": 157,
   "id": "4b35ae67",
   "metadata": {},
   "outputs": [
    {
     "data": {
      "text/html": [
       "<div>\n",
       "<style scoped>\n",
       "    .dataframe tbody tr th:only-of-type {\n",
       "        vertical-align: middle;\n",
       "    }\n",
       "\n",
       "    .dataframe tbody tr th {\n",
       "        vertical-align: top;\n",
       "    }\n",
       "\n",
       "    .dataframe thead th {\n",
       "        text-align: right;\n",
       "    }\n",
       "</style>\n",
       "<table border=\"1\" class=\"dataframe\">\n",
       "  <thead>\n",
       "    <tr style=\"text-align: right;\">\n",
       "      <th></th>\n",
       "      <th>county</th>\n",
       "      <th>state</th>\n",
       "      <th>fips</th>\n",
       "      <th>cases</th>\n",
       "      <th>Day</th>\n",
       "    </tr>\n",
       "  </thead>\n",
       "  <tbody>\n",
       "    <tr>\n",
       "      <th>0</th>\n",
       "      <td>1601</td>\n",
       "      <td>52</td>\n",
       "      <td>53061.0</td>\n",
       "      <td>1</td>\n",
       "      <td>21</td>\n",
       "    </tr>\n",
       "    <tr>\n",
       "      <th>1</th>\n",
       "      <td>1601</td>\n",
       "      <td>52</td>\n",
       "      <td>53061.0</td>\n",
       "      <td>1</td>\n",
       "      <td>22</td>\n",
       "    </tr>\n",
       "    <tr>\n",
       "      <th>2</th>\n",
       "      <td>1601</td>\n",
       "      <td>52</td>\n",
       "      <td>53061.0</td>\n",
       "      <td>1</td>\n",
       "      <td>23</td>\n",
       "    </tr>\n",
       "    <tr>\n",
       "      <th>3</th>\n",
       "      <td>414</td>\n",
       "      <td>15</td>\n",
       "      <td>17031.0</td>\n",
       "      <td>1</td>\n",
       "      <td>24</td>\n",
       "    </tr>\n",
       "    <tr>\n",
       "      <th>4</th>\n",
       "      <td>1601</td>\n",
       "      <td>52</td>\n",
       "      <td>53061.0</td>\n",
       "      <td>1</td>\n",
       "      <td>24</td>\n",
       "    </tr>\n",
       "  </tbody>\n",
       "</table>\n",
       "</div>"
      ],
      "text/plain": [
       "   county  state     fips  cases  Day\n",
       "0    1601     52  53061.0      1   21\n",
       "1    1601     52  53061.0      1   22\n",
       "2    1601     52  53061.0      1   23\n",
       "3     414     15  17031.0      1   24\n",
       "4    1601     52  53061.0      1   24"
      ]
     },
     "execution_count": 157,
     "metadata": {},
     "output_type": "execute_result"
    }
   ],
   "source": [
    "df4=df1[['county','state','fips','cases','Day']]\n",
    "df4.head()"
   ]
  },
  {
   "cell_type": "code",
   "execution_count": 167,
   "id": "d09bb43c",
   "metadata": {},
   "outputs": [
    {
     "data": {
      "text/plain": [
       "array([7.1455106e-02, 4.3226010e-01, 2.5108285e-02, 4.2343962e-01,\n",
       "       2.3706873e-04, 4.7499839e-02], dtype=float32)"
      ]
     },
     "execution_count": 167,
     "metadata": {},
     "output_type": "execute_result"
    }
   ],
   "source": [
    "imp_fea4=modelXGB.feature_importances_[modelXGB.feature_importances_>0]\n",
    "imp_fea4"
   ]
  },
  {
   "cell_type": "code",
   "execution_count": 168,
   "id": "c6ce4d63",
   "metadata": {},
   "outputs": [
    {
     "data": {
      "text/html": [
       "<div>\n",
       "<style scoped>\n",
       "    .dataframe tbody tr th:only-of-type {\n",
       "        vertical-align: middle;\n",
       "    }\n",
       "\n",
       "    .dataframe tbody tr th {\n",
       "        vertical-align: top;\n",
       "    }\n",
       "\n",
       "    .dataframe thead th {\n",
       "        text-align: right;\n",
       "    }\n",
       "</style>\n",
       "<table border=\"1\" class=\"dataframe\">\n",
       "  <thead>\n",
       "    <tr style=\"text-align: right;\">\n",
       "      <th></th>\n",
       "      <th>coefficient</th>\n",
       "    </tr>\n",
       "  </thead>\n",
       "  <tbody>\n",
       "    <tr>\n",
       "      <th>county</th>\n",
       "      <td>0.071455</td>\n",
       "    </tr>\n",
       "    <tr>\n",
       "      <th>state</th>\n",
       "      <td>0.432260</td>\n",
       "    </tr>\n",
       "    <tr>\n",
       "      <th>fips</th>\n",
       "      <td>0.025108</td>\n",
       "    </tr>\n",
       "    <tr>\n",
       "      <th>cases</th>\n",
       "      <td>0.423440</td>\n",
       "    </tr>\n",
       "    <tr>\n",
       "      <th>Year</th>\n",
       "      <td>0.000000</td>\n",
       "    </tr>\n",
       "    <tr>\n",
       "      <th>Month</th>\n",
       "      <td>0.000237</td>\n",
       "    </tr>\n",
       "    <tr>\n",
       "      <th>Day</th>\n",
       "      <td>0.047500</td>\n",
       "    </tr>\n",
       "  </tbody>\n",
       "</table>\n",
       "</div>"
      ],
      "text/plain": [
       "        coefficient\n",
       "county     0.071455\n",
       "state      0.432260\n",
       "fips       0.025108\n",
       "cases      0.423440\n",
       "Year       0.000000\n",
       "Month      0.000237\n",
       "Day        0.047500"
      ]
     },
     "execution_count": 168,
     "metadata": {},
     "output_type": "execute_result"
    }
   ],
   "source": [
    "coef=pd.DataFrame(modelXGB.feature_importances_,index=x.columns,columns=['coefficient'])\n",
    "coef"
   ]
  },
  {
   "cell_type": "code",
   "execution_count": 170,
   "id": "1adf1865",
   "metadata": {},
   "outputs": [
    {
     "data": {
      "text/html": [
       "<div>\n",
       "<style scoped>\n",
       "    .dataframe tbody tr th:only-of-type {\n",
       "        vertical-align: middle;\n",
       "    }\n",
       "\n",
       "    .dataframe tbody tr th {\n",
       "        vertical-align: top;\n",
       "    }\n",
       "\n",
       "    .dataframe thead th {\n",
       "        text-align: right;\n",
       "    }\n",
       "</style>\n",
       "<table border=\"1\" class=\"dataframe\">\n",
       "  <thead>\n",
       "    <tr style=\"text-align: right;\">\n",
       "      <th></th>\n",
       "      <th>county</th>\n",
       "      <th>state</th>\n",
       "      <th>fips</th>\n",
       "      <th>cases</th>\n",
       "      <th>Month</th>\n",
       "      <th>Day</th>\n",
       "    </tr>\n",
       "  </thead>\n",
       "  <tbody>\n",
       "    <tr>\n",
       "      <th>0</th>\n",
       "      <td>1601</td>\n",
       "      <td>52</td>\n",
       "      <td>53061.0</td>\n",
       "      <td>1</td>\n",
       "      <td>1</td>\n",
       "      <td>21</td>\n",
       "    </tr>\n",
       "    <tr>\n",
       "      <th>1</th>\n",
       "      <td>1601</td>\n",
       "      <td>52</td>\n",
       "      <td>53061.0</td>\n",
       "      <td>1</td>\n",
       "      <td>1</td>\n",
       "      <td>22</td>\n",
       "    </tr>\n",
       "    <tr>\n",
       "      <th>2</th>\n",
       "      <td>1601</td>\n",
       "      <td>52</td>\n",
       "      <td>53061.0</td>\n",
       "      <td>1</td>\n",
       "      <td>1</td>\n",
       "      <td>23</td>\n",
       "    </tr>\n",
       "    <tr>\n",
       "      <th>3</th>\n",
       "      <td>414</td>\n",
       "      <td>15</td>\n",
       "      <td>17031.0</td>\n",
       "      <td>1</td>\n",
       "      <td>1</td>\n",
       "      <td>24</td>\n",
       "    </tr>\n",
       "    <tr>\n",
       "      <th>4</th>\n",
       "      <td>1601</td>\n",
       "      <td>52</td>\n",
       "      <td>53061.0</td>\n",
       "      <td>1</td>\n",
       "      <td>1</td>\n",
       "      <td>24</td>\n",
       "    </tr>\n",
       "  </tbody>\n",
       "</table>\n",
       "</div>"
      ],
      "text/plain": [
       "   county  state     fips  cases  Month  Day\n",
       "0    1601     52  53061.0      1      1   21\n",
       "1    1601     52  53061.0      1      1   22\n",
       "2    1601     52  53061.0      1      1   23\n",
       "3     414     15  17031.0      1      1   24\n",
       "4    1601     52  53061.0      1      1   24"
      ]
     },
     "execution_count": 170,
     "metadata": {},
     "output_type": "execute_result"
    }
   ],
   "source": [
    "df5=df1[['county','state','fips','cases','Month','Day']]\n",
    "df5.head()"
   ]
  },
  {
   "cell_type": "code",
   "execution_count": 174,
   "id": "02957d4b",
   "metadata": {},
   "outputs": [],
   "source": [
    "impdf=df1[['fips','cases','Month','Day']]\n",
    "impdf=impdf.head(10000)"
   ]
  },
  {
   "cell_type": "code",
   "execution_count": 177,
   "id": "cec66829",
   "metadata": {},
   "outputs": [
    {
     "data": {
      "text/plain": [
       "LinearRegression()"
      ]
     },
     "execution_count": 177,
     "metadata": {},
     "output_type": "execute_result"
    }
   ],
   "source": [
    "x_train,x_test,y_train,y_test=train_test_split(impdf,y,random_state=0)\n",
    "modelLR.fit(x_train,y_train)"
   ]
  },
  {
   "cell_type": "code",
   "execution_count": 178,
   "id": "7498cf1d",
   "metadata": {},
   "outputs": [
    {
     "data": {
      "text/plain": [
       "0.5311958260880805"
      ]
     },
     "execution_count": 178,
     "metadata": {},
     "output_type": "execute_result"
    }
   ],
   "source": [
    "modelLR.score(x_train,y_train)"
   ]
  },
  {
   "cell_type": "code",
   "execution_count": 179,
   "id": "796872f8",
   "metadata": {},
   "outputs": [
    {
     "data": {
      "text/plain": [
       "0.7453207307784371"
      ]
     },
     "execution_count": 179,
     "metadata": {},
     "output_type": "execute_result"
    }
   ],
   "source": [
    "modelLR.score(x_test,y_test)"
   ]
  },
  {
   "cell_type": "code",
   "execution_count": 181,
   "id": "64a8f7a1",
   "metadata": {},
   "outputs": [
    {
     "data": {
      "text/plain": [
       "XGBRegressor(base_score=None, booster=None, callbacks=None,\n",
       "             colsample_bylevel=None, colsample_bynode=None,\n",
       "             colsample_bytree=None, early_stopping_rounds=None,\n",
       "             enable_categorical=False, eval_metric=None, feature_types=None,\n",
       "             gamma=None, gpu_id=None, grow_policy=None, importance_type=None,\n",
       "             interaction_constraints=None, learning_rate=None, max_bin=None,\n",
       "             max_cat_threshold=None, max_cat_to_onehot=None,\n",
       "             max_delta_step=None, max_depth=None, max_leaves=None,\n",
       "             min_child_weight=None, missing=nan, monotone_constraints=None,\n",
       "             n_estimators=100, n_jobs=None, num_parallel_tree=None,\n",
       "             predictor=None, random_state=None, ...)"
      ]
     },
     "execution_count": 181,
     "metadata": {},
     "output_type": "execute_result"
    }
   ],
   "source": [
    "modelXGB.fit(x_train,y_train)\n",
    "             "
   ]
  },
  {
   "cell_type": "code",
   "execution_count": 182,
   "id": "c6e2f26c",
   "metadata": {},
   "outputs": [
    {
     "data": {
      "text/plain": [
       "0.9977025034541124"
      ]
     },
     "execution_count": 182,
     "metadata": {},
     "output_type": "execute_result"
    }
   ],
   "source": [
    "modelXGB.score(x_train,y_train)"
   ]
  },
  {
   "cell_type": "code",
   "execution_count": 183,
   "id": "5235a880",
   "metadata": {},
   "outputs": [
    {
     "data": {
      "text/plain": [
       "0.9446158594499978"
      ]
     },
     "execution_count": 183,
     "metadata": {},
     "output_type": "execute_result"
    }
   ],
   "source": [
    "modelXGB.score(x_test,y_test)"
   ]
  },
  {
   "cell_type": "code",
   "execution_count": 185,
   "id": "c9ddf5ef",
   "metadata": {},
   "outputs": [],
   "source": [
    "y_predXGB=modelXGB.predict(x_test)"
   ]
  },
  {
   "cell_type": "code",
   "execution_count": 186,
   "id": "f94ec446",
   "metadata": {},
   "outputs": [
    {
     "data": {
      "text/plain": [
       "0.9446158594499978"
      ]
     },
     "execution_count": 186,
     "metadata": {},
     "output_type": "execute_result"
    }
   ],
   "source": [
    "r2_score(y_test,y_predXGB)"
   ]
  },
  {
   "cell_type": "code",
   "execution_count": 71,
   "id": "d545c071",
   "metadata": {},
   "outputs": [],
   "source": [
    "colors = ['#F0D290','#DE834D','#A3423C','#781D42']\n",
    "colors2 = ['#F0D290','#DE834D','#A3423C','#781D42','#671E31']\n",
    "colors3 = ['#f0d290','#e9c083','#e2af77','#d99d6d','#d08c64', '#c67b5d',\n",
    "           '#bc6b56','#b05a51','#a34b4d','#963b49', '#872c45','#781d42']\n"
   ]
  },
  {
   "cell_type": "markdown",
   "id": "ba2d72da",
   "metadata": {},
   "source": [
    "# Model evaluation - R2 Score"
   ]
  },
  {
   "cell_type": "code",
   "execution_count": 72,
   "id": "2bfdaba2",
   "metadata": {},
   "outputs": [
    {
     "data": {
      "text/plain": [
       "<Figure size 2000x800 with 0 Axes>"
      ]
     },
     "metadata": {},
     "output_type": "display_data"
    },
    {
     "data": {
      "image/png": "[encoded data removed]",
      "text/plain": [
       "<Figure size 640x480 with 1 Axes>"
      ]
     },
     "metadata": {},
     "output_type": "display_data"
    }
   ],
   "source": [
    "plt.figure(figsize=(20, 8))\n",
    "pd.DataFrame(models_results_r2, index=['']).plot.bar(color=colors3);\n",
    "plt.xlabel('R2 Score');"
   ]
  },
  {
   "cell_type": "markdown",
   "id": "df86b6c5",
   "metadata": {},
   "source": [
    "# Model evaluation - Root Mean Square Error"
   ]
  },
  {
   "cell_type": "code",
   "execution_count": 73,
   "id": "d05f1cac",
   "metadata": {},
   "outputs": [
    {
     "data": {
      "text/plain": [
       "<Figure size 2000x800 with 0 Axes>"
      ]
     },
     "metadata": {},
     "output_type": "display_data"
    },
    {
     "data": {
      "image/png": "[encoded data removed]",
      "text/plain": [
       "<Figure size 640x480 with 1 Axes>"
      ]
     },
     "metadata": {},
     "output_type": "display_data"
    }
   ],
   "source": [
    "plt.figure(figsize=(20, 8))\n",
    "pd.DataFrame(models_results_rmse, index=['']).plot.bar(color=colors3);\n",
    "plt.xlabel('Root Mean Square Error');"
   ]
  },
  {
   "cell_type": "code",
   "execution_count": 74,
   "id": "00a02dda",
   "metadata": {},
   "outputs": [
    {
     "data": {
      "text/plain": [
       "{'LinearRegression': 367.5004,\n",
       " 'DecisionTreeRegressor': 326.6369,\n",
       " 'RandomForestRegressor': 1.3306,\n",
       " 'SVR': 3.6834,\n",
       " 'XGBRegressor': 0.8946}"
      ]
     },
     "execution_count": 74,
     "metadata": {},
     "output_type": "execute_result"
    }
   ],
   "source": [
    "models_results_rmse"
   ]
  },
  {
   "cell_type": "code",
   "execution_count": 75,
   "id": "026cb76f",
   "metadata": {},
   "outputs": [
    {
     "data": {
      "text/html": [
       "<div>\n",
       "<style scoped>\n",
       "    .dataframe tbody tr th:only-of-type {\n",
       "        vertical-align: middle;\n",
       "    }\n",
       "\n",
       "    .dataframe tbody tr th {\n",
       "        vertical-align: top;\n",
       "    }\n",
       "\n",
       "    .dataframe thead th {\n",
       "        text-align: right;\n",
       "    }\n",
       "</style>\n",
       "<table border=\"1\" class=\"dataframe\">\n",
       "  <thead>\n",
       "    <tr style=\"text-align: right;\">\n",
       "      <th></th>\n",
       "      <th>county</th>\n",
       "      <th>state</th>\n",
       "      <th>fips</th>\n",
       "      <th>cases</th>\n",
       "      <th>deaths</th>\n",
       "      <th>Date</th>\n",
       "      <th>Year</th>\n",
       "      <th>Month</th>\n",
       "      <th>Day</th>\n",
       "    </tr>\n",
       "  </thead>\n",
       "  <tbody>\n",
       "    <tr>\n",
       "      <th>0</th>\n",
       "      <td>1601</td>\n",
       "      <td>52</td>\n",
       "      <td>53061.0</td>\n",
       "      <td>1</td>\n",
       "      <td>0.0</td>\n",
       "      <td>2020-01-21</td>\n",
       "      <td>2020</td>\n",
       "      <td>1</td>\n",
       "      <td>21</td>\n",
       "    </tr>\n",
       "    <tr>\n",
       "      <th>1</th>\n",
       "      <td>1601</td>\n",
       "      <td>52</td>\n",
       "      <td>53061.0</td>\n",
       "      <td>1</td>\n",
       "      <td>0.0</td>\n",
       "      <td>2020-01-22</td>\n",
       "      <td>2020</td>\n",
       "      <td>1</td>\n",
       "      <td>22</td>\n",
       "    </tr>\n",
       "    <tr>\n",
       "      <th>2</th>\n",
       "      <td>1601</td>\n",
       "      <td>52</td>\n",
       "      <td>53061.0</td>\n",
       "      <td>1</td>\n",
       "      <td>0.0</td>\n",
       "      <td>2020-01-23</td>\n",
       "      <td>2020</td>\n",
       "      <td>1</td>\n",
       "      <td>23</td>\n",
       "    </tr>\n",
       "    <tr>\n",
       "      <th>3</th>\n",
       "      <td>414</td>\n",
       "      <td>15</td>\n",
       "      <td>17031.0</td>\n",
       "      <td>1</td>\n",
       "      <td>0.0</td>\n",
       "      <td>2020-01-24</td>\n",
       "      <td>2020</td>\n",
       "      <td>1</td>\n",
       "      <td>24</td>\n",
       "    </tr>\n",
       "    <tr>\n",
       "      <th>4</th>\n",
       "      <td>1601</td>\n",
       "      <td>52</td>\n",
       "      <td>53061.0</td>\n",
       "      <td>1</td>\n",
       "      <td>0.0</td>\n",
       "      <td>2020-01-24</td>\n",
       "      <td>2020</td>\n",
       "      <td>1</td>\n",
       "      <td>24</td>\n",
       "    </tr>\n",
       "  </tbody>\n",
       "</table>\n",
       "</div>"
      ],
      "text/plain": [
       "   county  state     fips  cases  deaths       Date  Year  Month  Day\n",
       "0    1601     52  53061.0      1     0.0 2020-01-21  2020      1   21\n",
       "1    1601     52  53061.0      1     0.0 2020-01-22  2020      1   22\n",
       "2    1601     52  53061.0      1     0.0 2020-01-23  2020      1   23\n",
       "3     414     15  17031.0      1     0.0 2020-01-24  2020      1   24\n",
       "4    1601     52  53061.0      1     0.0 2020-01-24  2020      1   24"
      ]
     },
     "execution_count": 75,
     "metadata": {},
     "output_type": "execute_result"
    }
   ],
   "source": [
    "df1.head()"
   ]
  },
  {
   "cell_type": "code",
   "execution_count": 76,
   "id": "eb41135b",
   "metadata": {},
   "outputs": [
    {
     "data": {
      "text/plain": [
       "county        0\n",
       "state         0\n",
       "fips      23678\n",
       "cases         0\n",
       "deaths    57605\n",
       "Date          0\n",
       "Year          0\n",
       "Month         0\n",
       "Day           0\n",
       "dtype: int64"
      ]
     },
     "execution_count": 76,
     "metadata": {},
     "output_type": "execute_result"
    }
   ],
   "source": [
    "df1.isnull().sum()"
   ]
  },
  {
   "cell_type": "code",
   "execution_count": 77,
   "id": "83d6d0c4",
   "metadata": {},
   "outputs": [],
   "source": [
    "df1=df1.fillna(0.0)"
   ]
  },
  {
   "cell_type": "code",
   "execution_count": 78,
   "id": "feb70318",
   "metadata": {},
   "outputs": [
    {
     "data": {
      "text/plain": [
       "county    0\n",
       "state     0\n",
       "fips      0\n",
       "cases     0\n",
       "deaths    0\n",
       "Date      0\n",
       "Year      0\n",
       "Month     0\n",
       "Day       0\n",
       "dtype: int64"
      ]
     },
     "execution_count": 78,
     "metadata": {},
     "output_type": "execute_result"
    }
   ],
   "source": [
    "df1.isnull().sum()"
   ]
  },
  {
   "cell_type": "code",
   "execution_count": 79,
   "id": "cf07f943",
   "metadata": {},
   "outputs": [],
   "source": [
    "# df1.head()"
   ]
  },
  {
   "cell_type": "code",
   "execution_count": 80,
   "id": "bb19140a",
   "metadata": {},
   "outputs": [
    {
     "data": {
      "text/plain": [
       "array([2020, 2021, 2022], dtype=int64)"
      ]
     },
     "execution_count": 80,
     "metadata": {},
     "output_type": "execute_result"
    }
   ],
   "source": [
    "df1['Year'].unique()"
   ]
  },
  {
   "cell_type": "code",
   "execution_count": 81,
   "id": "a3657c17",
   "metadata": {},
   "outputs": [],
   "source": [
    "def plot_forecasted_sales(y_pred, y_train, y_true=[], period=5, title=''):\n",
    "    \n",
    "    # plot\n",
    "    plt.figure(figsize=(20, 8))\n",
    "    plt.plot(y_train.to_list(), color=colors[0])\n",
    "    plt.plot([None for i in y_train] + [x for x in y_pred], color=colors[2])\n",
    "    \n",
    "    # set legend\n",
    "    if len(y_true) > 0:\n",
    "        plt.plot([None for i in y_train] + [x for x in y_true], color=colors[1])\n",
    "        plt.legend(['2020-2021 Acual cases', '2022 Acual cases', f'2022 Forecasted cases \\\n",
    "(RMSE = {mean_squared_error(y_true, y_pred, squared=False).round(1)}, R2 = {r2_score(y_true, y_pred).round(3)})'])\n",
    "    else:\n",
    "        plt.legend(['2020-2022 Actual cases', '2020-2022 Forecasted cases'])\n",
    "    \n",
    "    # set parameters\n",
    "    plt.xticks(range(0, len(y_train) + len(y_pred), period), rotation=75)\n",
    "    plt.xlabel('Week')\n",
    "    plt.ylabel('cases')\n",
    "    plt.title(title)\n",
    "    plt.show()"
   ]
  },
  {
   "cell_type": "markdown",
   "id": "fcee19ad",
   "metadata": {},
   "source": [
    "# Final Forecasting using best performed model (XGBRegressor)"
   ]
  },
  {
   "cell_type": "code",
   "execution_count": 99,
   "id": "450ba884",
   "metadata": {},
   "outputs": [
    {
     "data": {
      "text/html": [
       "<div>\n",
       "<style scoped>\n",
       "    .dataframe tbody tr th:only-of-type {\n",
       "        vertical-align: middle;\n",
       "    }\n",
       "\n",
       "    .dataframe tbody tr th {\n",
       "        vertical-align: top;\n",
       "    }\n",
       "\n",
       "    .dataframe thead th {\n",
       "        text-align: right;\n",
       "    }\n",
       "</style>\n",
       "<table border=\"1\" class=\"dataframe\">\n",
       "  <thead>\n",
       "    <tr style=\"text-align: right;\">\n",
       "      <th></th>\n",
       "      <th>county</th>\n",
       "      <th>state</th>\n",
       "      <th>fips</th>\n",
       "      <th>cases</th>\n",
       "      <th>Year</th>\n",
       "      <th>Month</th>\n",
       "      <th>Day</th>\n",
       "    </tr>\n",
       "  </thead>\n",
       "  <tbody>\n",
       "    <tr>\n",
       "      <th>0</th>\n",
       "      <td>1601</td>\n",
       "      <td>52</td>\n",
       "      <td>53061.0</td>\n",
       "      <td>1</td>\n",
       "      <td>2020</td>\n",
       "      <td>1</td>\n",
       "      <td>21</td>\n",
       "    </tr>\n",
       "    <tr>\n",
       "      <th>1</th>\n",
       "      <td>1601</td>\n",
       "      <td>52</td>\n",
       "      <td>53061.0</td>\n",
       "      <td>1</td>\n",
       "      <td>2020</td>\n",
       "      <td>1</td>\n",
       "      <td>22</td>\n",
       "    </tr>\n",
       "    <tr>\n",
       "      <th>2</th>\n",
       "      <td>1601</td>\n",
       "      <td>52</td>\n",
       "      <td>53061.0</td>\n",
       "      <td>1</td>\n",
       "      <td>2020</td>\n",
       "      <td>1</td>\n",
       "      <td>23</td>\n",
       "    </tr>\n",
       "    <tr>\n",
       "      <th>3</th>\n",
       "      <td>414</td>\n",
       "      <td>15</td>\n",
       "      <td>17031.0</td>\n",
       "      <td>1</td>\n",
       "      <td>2020</td>\n",
       "      <td>1</td>\n",
       "      <td>24</td>\n",
       "    </tr>\n",
       "    <tr>\n",
       "      <th>4</th>\n",
       "      <td>1601</td>\n",
       "      <td>52</td>\n",
       "      <td>53061.0</td>\n",
       "      <td>1</td>\n",
       "      <td>2020</td>\n",
       "      <td>1</td>\n",
       "      <td>24</td>\n",
       "    </tr>\n",
       "    <tr>\n",
       "      <th>...</th>\n",
       "      <td>...</td>\n",
       "      <td>...</td>\n",
       "      <td>...</td>\n",
       "      <td>...</td>\n",
       "      <td>...</td>\n",
       "      <td>...</td>\n",
       "      <td>...</td>\n",
       "    </tr>\n",
       "    <tr>\n",
       "      <th>2502827</th>\n",
       "      <td>1683</td>\n",
       "      <td>55</td>\n",
       "      <td>56037.0</td>\n",
       "      <td>11088</td>\n",
       "      <td>2022</td>\n",
       "      <td>5</td>\n",
       "      <td>13</td>\n",
       "    </tr>\n",
       "    <tr>\n",
       "      <th>2502828</th>\n",
       "      <td>1708</td>\n",
       "      <td>55</td>\n",
       "      <td>56039.0</td>\n",
       "      <td>10074</td>\n",
       "      <td>2022</td>\n",
       "      <td>5</td>\n",
       "      <td>13</td>\n",
       "    </tr>\n",
       "    <tr>\n",
       "      <th>2502829</th>\n",
       "      <td>1765</td>\n",
       "      <td>55</td>\n",
       "      <td>56041.0</td>\n",
       "      <td>5643</td>\n",
       "      <td>2022</td>\n",
       "      <td>5</td>\n",
       "      <td>13</td>\n",
       "    </tr>\n",
       "    <tr>\n",
       "      <th>2502830</th>\n",
       "      <td>1828</td>\n",
       "      <td>55</td>\n",
       "      <td>56043.0</td>\n",
       "      <td>2358</td>\n",
       "      <td>2022</td>\n",
       "      <td>5</td>\n",
       "      <td>13</td>\n",
       "    </tr>\n",
       "    <tr>\n",
       "      <th>2502831</th>\n",
       "      <td>1852</td>\n",
       "      <td>55</td>\n",
       "      <td>56045.0</td>\n",
       "      <td>1588</td>\n",
       "      <td>2022</td>\n",
       "      <td>5</td>\n",
       "      <td>13</td>\n",
       "    </tr>\n",
       "  </tbody>\n",
       "</table>\n",
       "<p>2502832 rows × 7 columns</p>\n",
       "</div>"
      ],
      "text/plain": [
       "         county  state     fips  cases  Year  Month  Day\n",
       "0          1601     52  53061.0      1  2020      1   21\n",
       "1          1601     52  53061.0      1  2020      1   22\n",
       "2          1601     52  53061.0      1  2020      1   23\n",
       "3           414     15  17031.0      1  2020      1   24\n",
       "4          1601     52  53061.0      1  2020      1   24\n",
       "...         ...    ...      ...    ...   ...    ...  ...\n",
       "2502827    1683     55  56037.0  11088  2022      5   13\n",
       "2502828    1708     55  56039.0  10074  2022      5   13\n",
       "2502829    1765     55  56041.0   5643  2022      5   13\n",
       "2502830    1828     55  56043.0   2358  2022      5   13\n",
       "2502831    1852     55  56045.0   1588  2022      5   13\n",
       "\n",
       "[2502832 rows x 7 columns]"
      ]
     },
     "execution_count": 99,
     "metadata": {},
     "output_type": "execute_result"
    }
   ],
   "source": [
    "df1\n",
    "x=df1.drop(['deaths','Date'],axis=1)\n",
    "x"
   ]
  },
  {
   "cell_type": "code",
   "execution_count": 102,
   "id": "90088305",
   "metadata": {},
   "outputs": [
    {
     "data": {
      "text/html": [
       "<div>\n",
       "<style scoped>\n",
       "    .dataframe tbody tr th:only-of-type {\n",
       "        vertical-align: middle;\n",
       "    }\n",
       "\n",
       "    .dataframe tbody tr th {\n",
       "        vertical-align: top;\n",
       "    }\n",
       "\n",
       "    .dataframe thead th {\n",
       "        text-align: right;\n",
       "    }\n",
       "</style>\n",
       "<table border=\"1\" class=\"dataframe\">\n",
       "  <thead>\n",
       "    <tr style=\"text-align: right;\">\n",
       "      <th></th>\n",
       "      <th>county</th>\n",
       "      <th>state</th>\n",
       "      <th>fips</th>\n",
       "      <th>cases</th>\n",
       "      <th>Year</th>\n",
       "      <th>Month</th>\n",
       "      <th>Day</th>\n",
       "    </tr>\n",
       "  </thead>\n",
       "  <tbody>\n",
       "    <tr>\n",
       "      <th>0</th>\n",
       "      <td>0.829104</td>\n",
       "      <td>0.945455</td>\n",
       "      <td>0.680008</td>\n",
       "      <td>3.438287e-07</td>\n",
       "      <td>0.0</td>\n",
       "      <td>0.000000</td>\n",
       "      <td>0.666667</td>\n",
       "    </tr>\n",
       "    <tr>\n",
       "      <th>1</th>\n",
       "      <td>0.829104</td>\n",
       "      <td>0.945455</td>\n",
       "      <td>0.680008</td>\n",
       "      <td>3.438287e-07</td>\n",
       "      <td>0.0</td>\n",
       "      <td>0.000000</td>\n",
       "      <td>0.700000</td>\n",
       "    </tr>\n",
       "    <tr>\n",
       "      <th>2</th>\n",
       "      <td>0.829104</td>\n",
       "      <td>0.945455</td>\n",
       "      <td>0.680008</td>\n",
       "      <td>3.438287e-07</td>\n",
       "      <td>0.0</td>\n",
       "      <td>0.000000</td>\n",
       "      <td>0.733333</td>\n",
       "    </tr>\n",
       "    <tr>\n",
       "      <th>3</th>\n",
       "      <td>0.214397</td>\n",
       "      <td>0.272727</td>\n",
       "      <td>0.218262</td>\n",
       "      <td>3.438287e-07</td>\n",
       "      <td>0.0</td>\n",
       "      <td>0.000000</td>\n",
       "      <td>0.766667</td>\n",
       "    </tr>\n",
       "    <tr>\n",
       "      <th>4</th>\n",
       "      <td>0.829104</td>\n",
       "      <td>0.945455</td>\n",
       "      <td>0.680008</td>\n",
       "      <td>3.438287e-07</td>\n",
       "      <td>0.0</td>\n",
       "      <td>0.000000</td>\n",
       "      <td>0.766667</td>\n",
       "    </tr>\n",
       "    <tr>\n",
       "      <th>...</th>\n",
       "      <td>...</td>\n",
       "      <td>...</td>\n",
       "      <td>...</td>\n",
       "      <td>...</td>\n",
       "      <td>...</td>\n",
       "      <td>...</td>\n",
       "      <td>...</td>\n",
       "    </tr>\n",
       "    <tr>\n",
       "      <th>2502827</th>\n",
       "      <td>0.871569</td>\n",
       "      <td>1.000000</td>\n",
       "      <td>0.718147</td>\n",
       "      <td>3.812373e-03</td>\n",
       "      <td>1.0</td>\n",
       "      <td>0.363636</td>\n",
       "      <td>0.400000</td>\n",
       "    </tr>\n",
       "    <tr>\n",
       "      <th>2502828</th>\n",
       "      <td>0.884516</td>\n",
       "      <td>1.000000</td>\n",
       "      <td>0.718172</td>\n",
       "      <td>3.463730e-03</td>\n",
       "      <td>1.0</td>\n",
       "      <td>0.363636</td>\n",
       "      <td>0.400000</td>\n",
       "    </tr>\n",
       "    <tr>\n",
       "      <th>2502829</th>\n",
       "      <td>0.914034</td>\n",
       "      <td>1.000000</td>\n",
       "      <td>0.718198</td>\n",
       "      <td>1.940225e-03</td>\n",
       "      <td>1.0</td>\n",
       "      <td>0.363636</td>\n",
       "      <td>0.400000</td>\n",
       "    </tr>\n",
       "    <tr>\n",
       "      <th>2502830</th>\n",
       "      <td>0.946660</td>\n",
       "      <td>1.000000</td>\n",
       "      <td>0.718224</td>\n",
       "      <td>8.107481e-04</td>\n",
       "      <td>1.0</td>\n",
       "      <td>0.363636</td>\n",
       "      <td>0.400000</td>\n",
       "    </tr>\n",
       "    <tr>\n",
       "      <th>2502831</th>\n",
       "      <td>0.959089</td>\n",
       "      <td>1.000000</td>\n",
       "      <td>0.718249</td>\n",
       "      <td>5.460000e-04</td>\n",
       "      <td>1.0</td>\n",
       "      <td>0.363636</td>\n",
       "      <td>0.400000</td>\n",
       "    </tr>\n",
       "  </tbody>\n",
       "</table>\n",
       "<p>2502832 rows × 7 columns</p>\n",
       "</div>"
      ],
      "text/plain": [
       "           county     state      fips         cases  Year     Month       Day\n",
       "0        0.829104  0.945455  0.680008  3.438287e-07   0.0  0.000000  0.666667\n",
       "1        0.829104  0.945455  0.680008  3.438287e-07   0.0  0.000000  0.700000\n",
       "2        0.829104  0.945455  0.680008  3.438287e-07   0.0  0.000000  0.733333\n",
       "3        0.214397  0.272727  0.218262  3.438287e-07   0.0  0.000000  0.766667\n",
       "4        0.829104  0.945455  0.680008  3.438287e-07   0.0  0.000000  0.766667\n",
       "...           ...       ...       ...           ...   ...       ...       ...\n",
       "2502827  0.871569  1.000000  0.718147  3.812373e-03   1.0  0.363636  0.400000\n",
       "2502828  0.884516  1.000000  0.718172  3.463730e-03   1.0  0.363636  0.400000\n",
       "2502829  0.914034  1.000000  0.718198  1.940225e-03   1.0  0.363636  0.400000\n",
       "2502830  0.946660  1.000000  0.718224  8.107481e-04   1.0  0.363636  0.400000\n",
       "2502831  0.959089  1.000000  0.718249  5.460000e-04   1.0  0.363636  0.400000\n",
       "\n",
       "[2502832 rows x 7 columns]"
      ]
     },
     "execution_count": 102,
     "metadata": {},
     "output_type": "execute_result"
    }
   ],
   "source": [
    "from sklearn.preprocessing import MinMaxScaler\n",
    "scaler = MinMaxScaler()\n",
    "df_scaled = scaler.fit_transform(x.to_numpy())\n",
    "df_scaled\n",
    "df_scaled = pd.DataFrame(df_scaled, columns=['county', 'state', 'fips', 'cases','Year','Month','Day'])\n",
    "df_scaled"
   ]
  },
  {
   "cell_type": "code",
   "execution_count": 85,
   "id": "97af827e",
   "metadata": {},
   "outputs": [],
   "source": [
    "df_scaled['fips']=df_scaled['fips'].fillna(0.0)"
   ]
  },
  {
   "cell_type": "code",
   "execution_count": 104,
   "id": "18a58ca5",
   "metadata": {},
   "outputs": [
    {
     "data": {
      "text/plain": [
       "False"
      ]
     },
     "execution_count": 104,
     "metadata": {},
     "output_type": "execute_result"
    }
   ],
   "source": [
    "df_scaled['fips'].hasnans"
   ]
  },
  {
   "cell_type": "code",
   "execution_count": 109,
   "id": "7c3a1b0a",
   "metadata": {},
   "outputs": [
    {
     "data": {
      "text/plain": [
       "6994         0.0\n",
       "6995         0.0\n",
       "6996         0.0\n",
       "6997         0.0\n",
       "6998         0.0\n",
       "           ...  \n",
       "2502827    126.0\n",
       "2502828     16.0\n",
       "2502829     39.0\n",
       "2502830     44.0\n",
       "2502831     18.0\n",
       "Name: deaths, Length: 2495838, dtype: float64"
      ]
     },
     "execution_count": 109,
     "metadata": {},
     "output_type": "execute_result"
    }
   ],
   "source": [
    "df.iloc[6994:,-5]"
   ]
  },
  {
   "cell_type": "code",
   "execution_count": 117,
   "id": "ada9a8a9",
   "metadata": {
    "scrolled": true
   },
   "outputs": [],
   "source": [
    "y_pred = modelXGB.predict(df_scaled)[:100]\n",
    "y_test = df.iloc[6994:,-5][:100]"
   ]
  },
  {
   "cell_type": "code",
   "execution_count": 118,
   "id": "23e656f9",
   "metadata": {},
   "outputs": [
    {
     "data": {
      "image/png": "[encoded data removed]",
      "text/plain": [
       "<Figure size 2000x800 with 1 Axes>"
      ]
     },
     "metadata": {},
     "output_type": "display_data"
    }
   ],
   "source": [
    "plot_forecasted_sales(y_train=y_test, y_pred=y_pred, period=50, title='Forecasting Best Performed Model (Random Forest Regression)')"
   ]
  },
  {
   "cell_type": "markdown",
   "id": "d6f8c7cc",
   "metadata": {},
   "source": []
  }
 ],
 "metadata": {
  "kernelspec": {
   "display_name": "Python 3 (ipykernel)",
   "language": "python",
   "name": "python3"
  },
  "language_info": {
   "codemirror_mode": {
    "name": "ipython",
    "version": 3
   },
   "file_extension": ".py",
   "mimetype": "text/x-python",
   "name": "python",
   "nbconvert_exporter": "python",
   "pygments_lexer": "ipython3",
   "version": "3.9.13"
  }
 },
 "nbformat": 4,
 "nbformat_minor": 5
}
